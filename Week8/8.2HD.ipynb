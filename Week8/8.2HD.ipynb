{
 "cells": [
  {
   "cell_type": "markdown",
   "source": [],
   "metadata": {
    "collapsed": false
   },
   "id": "85a1391fe8a8f93c"
  },
  {
   "cell_type": "markdown",
   "source": [
    "# SIT-307\n",
    "## 1. Read the article and reproduce the results (Accuracy, Precision, Recall, F-Measure) for Chicago Crime\n",
    " ## dataset using following classification methods:\n",
    "• Logistic regression\n",
    "• SVM\n",
    "• Naïve Bayes\n",
    "• MLP\n",
    "• KNN\n",
    "• Random forest\n",
    "• XGBoost\n",
    "## These results can be found in Table 1 (Performance parameters for Chicago) of the manuscript and should be used for comparison purposes, if required. Write a report summarising the dataset, used ML methods, experiment protocol and results including variations, if any. During reproducing the results:\n",
    "### v) you should use the same set of features used by the authors.\n",
    "### vi) you should use the same classifier with exact parameter values.\n",
    "### vii) you should use the same training/test splitting approach as used by the authors.\n",
    "### viii) you should use the same pre/post processing, if any, used by the authors.\n",
    "\n",
    "### (v) If you find any issue in reproducing results due to incomplete description of model in the provided article, then make your own assumption and explain the reason. If your justification is correct, then your solution will be considered correct and assessed accordingly.\n",
    "### (vi) Similarly, variation in results due to randomness of data splitting will also be considered during evaluation based on your explanation.\n",
    "### (vii) Obtained marks will be proportional to the number of ML methods that you will report in your submission with correctly reproduced results.\n",
    "### (viii) Make sure your submitted Python code segment generates the reported results, otherwise you will receive zero marks for this task."
   ],
   "metadata": {
    "collapsed": false
   },
   "id": "d4ec1cac3176b03e"
  },
  {
   "cell_type": "code",
   "execution_count": 12,
   "outputs": [],
   "source": [
    "import pandas as pd\n",
    "## Downloading the dataset on the site: https://data.cityofchicago.org/Public-Safety/Crimes-2001-to-Presen a filter to ensure that we would only get dates lower than december 2019 was used.\n",
    "\n",
    "dataset = pd.read_csv(\"Crimes_-_2001_to_Nov2021.csv\")\n"
   ],
   "metadata": {
    "collapsed": false,
    "ExecuteTime": {
     "end_time": "2023-10-01T15:04:26.374102Z",
     "start_time": "2023-10-01T15:04:11.086595Z"
    }
   },
   "id": "f6f38baed1bc0194"
  },
  {
   "cell_type": "code",
   "execution_count": 13,
   "outputs": [
    {
     "name": "stdout",
     "output_type": "stream",
     "text": [
      "<class 'pandas.core.frame.DataFrame'>\n",
      "RangeIndex: 7032506 entries, 0 to 7032505\n",
      "Data columns (total 22 columns):\n",
      " #   Column                Dtype  \n",
      "---  ------                -----  \n",
      " 0   ID                    int64  \n",
      " 1   Case Number           object \n",
      " 2   Date                  object \n",
      " 3   Block                 object \n",
      " 4   IUCR                  object \n",
      " 5   Primary Type          object \n",
      " 6   Description           object \n",
      " 7   Location Description  object \n",
      " 8   Arrest                bool   \n",
      " 9   Domestic              bool   \n",
      " 10  Beat                  int64  \n",
      " 11  District              float64\n",
      " 12  Ward                  float64\n",
      " 13  Community Area        float64\n",
      " 14  FBI Code              object \n",
      " 15  X Coordinate          float64\n",
      " 16  Y Coordinate          float64\n",
      " 17  Year                  int64  \n",
      " 18  Updated On            object \n",
      " 19  Latitude              float64\n",
      " 20  Longitude             float64\n",
      " 21  Location              object \n",
      "dtypes: bool(2), float64(7), int64(3), object(10)\n",
      "memory usage: 1.1+ GB\n",
      "7013402\n"
     ]
    }
   ],
   "source": [
    "dataset.info()\n",
    "dataset['Date'] = pd.to_datetime(dataset['Date'])\n",
    "filtered_df = dataset[dataset['Date'] <= '2019-11-02']\n",
    "count = len(filtered_df)\n",
    "\n",
    "print(count)"
   ],
   "metadata": {
    "collapsed": false,
    "ExecuteTime": {
     "end_time": "2023-10-01T15:06:00.810328Z",
     "start_time": "2023-10-01T15:04:30.421476Z"
    }
   },
   "id": "a8599cab5c92b38d"
  },
  {
   "cell_type": "markdown",
   "source": [
    "the paper is quite ambiguous and tha part where they say that the dataset contains data from chicago from 2001 to Nov 2019, they do NOT specify if it includes november or not. What is an oversight for a good understanding of the methodology and data proccess utilized. on the paper the authors mentioned the have 7019734 instances in the chicago dataset. We have 7032505 if we consider November and 7012525 if we don't what makes it difficult to properly reproduce the results. I will consider WITHOUT November because is a little bit closer to the number that the authors got and did not really mention how.\n"
   ],
   "metadata": {
    "collapsed": false
   },
   "id": "ce2b34cfd52e95d6"
  },
  {
   "cell_type": "code",
   "execution_count": 5,
   "outputs": [],
   "source": [
    "[\n",
    "    'ID',\n",
    "    'Date', \n",
    "    'Primary Type',\n",
    "    'Description',\n",
    "    'Location Description',\n",
    "    'Year',\n",
    "    'District'\n",
    "]"
   ],
   "metadata": {
    "collapsed": false,
    "ExecuteTime": {
     "end_time": "2023-10-01T13:40:11.318251Z",
     "start_time": "2023-10-01T13:38:43.563064Z"
    }
   },
   "id": "59b24e650c076c5e"
  },
  {
   "cell_type": "code",
   "execution_count": 6,
   "outputs": [
    {
     "name": "stdout",
     "output_type": "stream",
     "text": [
      "<class 'pandas.core.frame.DataFrame'>\n",
      "Int64Index: 7011940 entries, 0 to 7011939\n",
      "Data columns (total 22 columns):\n",
      " #   Column                Dtype         \n",
      "---  ------                -----         \n",
      " 0   ID                    int64         \n",
      " 1   Case Number           object        \n",
      " 2   Date                  datetime64[ns]\n",
      " 3   Block                 object        \n",
      " 4   IUCR                  object        \n",
      " 5   Primary Type          object        \n",
      " 6   Description           object        \n",
      " 7   Location Description  object        \n",
      " 8   Arrest                bool          \n",
      " 9   Domestic              bool          \n",
      " 10  Beat                  int64         \n",
      " 11  District              float64       \n",
      " 12  Ward                  float64       \n",
      " 13  Community Area        float64       \n",
      " 14  FBI Code              object        \n",
      " 15  X Coordinate          float64       \n",
      " 16  Y Coordinate          float64       \n",
      " 17  Year                  int64         \n",
      " 18  Updated On            object        \n",
      " 19  Latitude              float64       \n",
      " 20  Longitude             float64       \n",
      " 21  Location              object        \n",
      "dtypes: bool(2), datetime64[ns](1), float64(7), int64(3), object(9)\n",
      "memory usage: 1.1+ GB\n"
     ]
    }
   ],
   "source": [],
   "metadata": {
    "collapsed": false,
    "ExecuteTime": {
     "end_time": "2023-10-01T13:40:19.674670Z",
     "start_time": "2023-10-01T13:40:19.656574Z"
    }
   },
   "id": "ed10a888d5ecc82"
  },
  {
   "cell_type": "code",
   "execution_count": 10,
   "outputs": [
    {
     "data": {
      "text/plain": "        ID Case Number       Date                Block  IUCR   Primary Type  \\\n0  1310933     G001704 2001-01-01    0000X W WACKER DR  0810          THEFT   \n1  1432149     G156662 2001-01-01  002XX E DELAWARE PL  2825  OTHER OFFENSE   \n2  1311351     G002096 2001-01-01        003XX W 40 PL  0620       BURGLARY   \n3  1310541     G000008 2001-01-01     078XX S ESSEX AV  0460        BATTERY   \n4  1318802     G011348 2001-01-01     124XX S STATE ST  0820          THEFT   \n\n               Description            Location Description  Arrest  Domestic  \\\n0                OVER $500  PARKING LOT/GARAGE(NON.RESID.)   False     False   \n1  HARASSMENT BY TELEPHONE                       RESIDENCE   False     False   \n2           UNLAWFUL ENTRY  FACTORY/MANUFACTURING BUILDING   False     False   \n3                   SIMPLE                       RESIDENCE   False     False   \n4           $500 AND UNDER                       RESIDENCE   False      True   \n\n   ...  Ward  Community Area  FBI Code  X Coordinate Y Coordinate  Year  \\\n0  ...   NaN             NaN        06     1176294.0    1902094.0  2001   \n1  ...   NaN             NaN        26     1178492.0    1906652.0  2001   \n2  ...   NaN             NaN        05           NaN          NaN  2001   \n3  ...   NaN             NaN       08B     1194175.0    1853638.0  2001   \n4  ...   NaN             NaN        06     1178560.0    1822349.0  2001   \n\n               Updated On   Latitude  Longitude                       Location  \n0  08/17/2015 03:03:40 PM  41.886704 -87.628054  (41.886703808, -87.628054456)  \n1  08/17/2015 03:03:40 PM  41.899161 -87.619844  (41.899161316, -87.619843746)  \n2  08/17/2015 03:03:40 PM        NaN        NaN                            NaN  \n3  08/17/2015 03:03:40 PM  41.753316 -87.563985  (41.753316255, -87.563985474)  \n4  08/17/2015 03:03:40 PM  41.667824 -87.622155   (41.66782394, -87.622155017)  \n\n[5 rows x 22 columns]",
      "text/html": "<div>\n<style scoped>\n    .dataframe tbody tr th:only-of-type {\n        vertical-align: middle;\n    }\n\n    .dataframe tbody tr th {\n        vertical-align: top;\n    }\n\n    .dataframe thead th {\n        text-align: right;\n    }\n</style>\n<table border=\"1\" class=\"dataframe\">\n  <thead>\n    <tr style=\"text-align: right;\">\n      <th></th>\n      <th>ID</th>\n      <th>Case Number</th>\n      <th>Date</th>\n      <th>Block</th>\n      <th>IUCR</th>\n      <th>Primary Type</th>\n      <th>Description</th>\n      <th>Location Description</th>\n      <th>Arrest</th>\n      <th>Domestic</th>\n      <th>...</th>\n      <th>Ward</th>\n      <th>Community Area</th>\n      <th>FBI Code</th>\n      <th>X Coordinate</th>\n      <th>Y Coordinate</th>\n      <th>Year</th>\n      <th>Updated On</th>\n      <th>Latitude</th>\n      <th>Longitude</th>\n      <th>Location</th>\n    </tr>\n  </thead>\n  <tbody>\n    <tr>\n      <th>0</th>\n      <td>1310933</td>\n      <td>G001704</td>\n      <td>2001-01-01</td>\n      <td>0000X W WACKER DR</td>\n      <td>0810</td>\n      <td>THEFT</td>\n      <td>OVER $500</td>\n      <td>PARKING LOT/GARAGE(NON.RESID.)</td>\n      <td>False</td>\n      <td>False</td>\n      <td>...</td>\n      <td>NaN</td>\n      <td>NaN</td>\n      <td>06</td>\n      <td>1176294.0</td>\n      <td>1902094.0</td>\n      <td>2001</td>\n      <td>08/17/2015 03:03:40 PM</td>\n      <td>41.886704</td>\n      <td>-87.628054</td>\n      <td>(41.886703808, -87.628054456)</td>\n    </tr>\n    <tr>\n      <th>1</th>\n      <td>1432149</td>\n      <td>G156662</td>\n      <td>2001-01-01</td>\n      <td>002XX E DELAWARE PL</td>\n      <td>2825</td>\n      <td>OTHER OFFENSE</td>\n      <td>HARASSMENT BY TELEPHONE</td>\n      <td>RESIDENCE</td>\n      <td>False</td>\n      <td>False</td>\n      <td>...</td>\n      <td>NaN</td>\n      <td>NaN</td>\n      <td>26</td>\n      <td>1178492.0</td>\n      <td>1906652.0</td>\n      <td>2001</td>\n      <td>08/17/2015 03:03:40 PM</td>\n      <td>41.899161</td>\n      <td>-87.619844</td>\n      <td>(41.899161316, -87.619843746)</td>\n    </tr>\n    <tr>\n      <th>2</th>\n      <td>1311351</td>\n      <td>G002096</td>\n      <td>2001-01-01</td>\n      <td>003XX W 40 PL</td>\n      <td>0620</td>\n      <td>BURGLARY</td>\n      <td>UNLAWFUL ENTRY</td>\n      <td>FACTORY/MANUFACTURING BUILDING</td>\n      <td>False</td>\n      <td>False</td>\n      <td>...</td>\n      <td>NaN</td>\n      <td>NaN</td>\n      <td>05</td>\n      <td>NaN</td>\n      <td>NaN</td>\n      <td>2001</td>\n      <td>08/17/2015 03:03:40 PM</td>\n      <td>NaN</td>\n      <td>NaN</td>\n      <td>NaN</td>\n    </tr>\n    <tr>\n      <th>3</th>\n      <td>1310541</td>\n      <td>G000008</td>\n      <td>2001-01-01</td>\n      <td>078XX S ESSEX AV</td>\n      <td>0460</td>\n      <td>BATTERY</td>\n      <td>SIMPLE</td>\n      <td>RESIDENCE</td>\n      <td>False</td>\n      <td>False</td>\n      <td>...</td>\n      <td>NaN</td>\n      <td>NaN</td>\n      <td>08B</td>\n      <td>1194175.0</td>\n      <td>1853638.0</td>\n      <td>2001</td>\n      <td>08/17/2015 03:03:40 PM</td>\n      <td>41.753316</td>\n      <td>-87.563985</td>\n      <td>(41.753316255, -87.563985474)</td>\n    </tr>\n    <tr>\n      <th>4</th>\n      <td>1318802</td>\n      <td>G011348</td>\n      <td>2001-01-01</td>\n      <td>124XX S STATE ST</td>\n      <td>0820</td>\n      <td>THEFT</td>\n      <td>$500 AND UNDER</td>\n      <td>RESIDENCE</td>\n      <td>False</td>\n      <td>True</td>\n      <td>...</td>\n      <td>NaN</td>\n      <td>NaN</td>\n      <td>06</td>\n      <td>1178560.0</td>\n      <td>1822349.0</td>\n      <td>2001</td>\n      <td>08/17/2015 03:03:40 PM</td>\n      <td>41.667824</td>\n      <td>-87.622155</td>\n      <td>(41.66782394, -87.622155017)</td>\n    </tr>\n  </tbody>\n</table>\n<p>5 rows × 22 columns</p>\n</div>"
     },
     "execution_count": 10,
     "metadata": {},
     "output_type": "execute_result"
    }
   ],
   "source": [
    "dataset.head()"
   ],
   "metadata": {
    "collapsed": false,
    "ExecuteTime": {
     "end_time": "2023-10-01T14:15:22.484713Z",
     "start_time": "2023-10-01T14:15:22.469398Z"
    }
   },
   "id": "82ee44aeed228d7c"
  },
  {
   "cell_type": "code",
   "execution_count": null,
   "outputs": [],
   "source": [],
   "metadata": {
    "collapsed": false
   },
   "id": "81c11f36a4af3388"
  }
 ],
 "metadata": {
  "kernelspec": {
   "display_name": "Python 3",
   "language": "python",
   "name": "python3"
  },
  "language_info": {
   "codemirror_mode": {
    "name": "ipython",
    "version": 2
   },
   "file_extension": ".py",
   "mimetype": "text/x-python",
   "name": "python",
   "nbconvert_exporter": "python",
   "pygments_lexer": "ipython2",
   "version": "2.7.6"
  }
 },
 "nbformat": 4,
 "nbformat_minor": 5
}
