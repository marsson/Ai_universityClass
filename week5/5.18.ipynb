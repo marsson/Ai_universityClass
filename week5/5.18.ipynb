{
 "cells": [
  {
   "cell_type": "markdown",
   "id": "93e264805dd559f1",
   "metadata": {},
   "source": [
    "# 1)  Load the dataset from “data.csv”.  Create training and test datasets using random splitting (80-20)%. Print the  number of samples in train and test data groupby \"roof_type\"."
   ]
  },
  {
   "cell_type": "code",
   "execution_count": 1,
   "id": "d55fb4e4b11e0a4b",
   "metadata": {
    "ExecuteTime": {
     "end_time": "2023-08-18T00:38:52.981406Z",
     "start_time": "2023-08-18T00:38:51.241250Z"
    }
   },
   "outputs": [
    {
     "name": "stdout",
     "output_type": "stream",
     "text": [
      "<class 'pandas.core.frame.DataFrame'>\n",
      "RangeIndex: 3000 entries, 0 to 2999\n",
      "Data columns (total 8 columns):\n",
      " #   Column                   Non-Null Count  Dtype  \n",
      "---  ------                   --------------  -----  \n",
      " 0   structure_max_elevation  3000 non-null   float64\n",
      " 1   footprint_max_elevation  3000 non-null   float64\n",
      " 2   structure_min_elevation  3000 non-null   float64\n",
      " 3   property_id              3000 non-null   int64  \n",
      " 4   footprint_extrusion      3000 non-null   float64\n",
      " 5   footprint_min_elevation  3000 non-null   float64\n",
      " 6   structure_extrusion      3000 non-null   float64\n",
      " 7   roof_type                3000 non-null   object \n",
      "dtypes: float64(6), int64(1), object(1)\n",
      "memory usage: 187.6+ KB\n"
     ]
    }
   ],
   "source": [
    "from sklearn.model_selection import train_test_split\n",
    "import pandas as pd\n",
    "dataFrame =  pd.read_csv(\"data.csv\")\n",
    "dataFrame.info()"
   ]
  },
  {
   "cell_type": "code",
   "execution_count": 6,
   "id": "2bc6ecb99a8903b",
   "metadata": {
    "ExecuteTime": {
     "end_time": "2023-08-12T04:48:07.381633Z",
     "start_time": "2023-08-12T04:48:07.372204Z"
    }
   },
   "outputs": [
    {
     "name": "stdout",
     "output_type": "stream",
     "text": [
      "Training Data Counts:\n",
      "Flat       1650\n",
      "Gable       427\n",
      "Hip         311\n",
      "Pyramid       8\n",
      "Shed          4\n",
      "Name: roof_type, dtype: int64\n",
      "\n",
      "Test Data Counts:\n",
      "Flat       423\n",
      "Gable      103\n",
      "Hip         70\n",
      "Pyramid      4\n",
      "Name: roof_type, dtype: int64\n"
     ]
    }
   ],
   "source": [
    "train_data, test_data = train_test_split(dataFrame, test_size=0.20, random_state=21)\n",
    "\n",
    "print(\"Training Data Counts:\")\n",
    "print(train_data['roof_type'].value_counts())\n",
    "\n",
    "print(\"Test Data Counts:\")\n",
    "print(test_data['roof_type'].value_counts())"
   ]
  },
  {
   "cell_type": "markdown",
   "id": "450e1def818486ee",
   "metadata": {},
   "source": [
    "# 2) Create training and test dataset using leave 5 \"property_id\" out for testing and rest of them for training. Print the train and test dataset for the first iteration only. Compare with Q-1 in terms of the number of training and testing samples using bar graph."
   ]
  },
  {
   "cell_type": "code",
   "execution_count": 16,
   "id": "34cdd2e37427f724",
   "metadata": {
    "ExecuteTime": {
     "end_time": "2023-08-12T05:10:59.859179Z",
     "start_time": "2023-08-12T05:10:59.841982Z"
    }
   },
   "outputs": [
    {
     "name": "stdout",
     "output_type": "stream",
     "text": [
      "   structure_max_elevation  footprint_max_elevation  structure_min_elevation  \\\n",
      "0                     30.5                     30.5                     17.5   \n",
      "1                     32.5                     26.5                     18.0   \n",
      "2                     32.5                     32.5                     18.0   \n",
      "3                     20.5                     19.5                     17.0   \n",
      "4                     24.5                     23.5                     17.0   \n",
      "\n",
      "   property_id  footprint_extrusion  footprint_min_elevation  \\\n",
      "0       109953                 13.5                     17.5   \n",
      "1       105685                  9.0                     18.0   \n",
      "2       105685                  5.5                     26.5   \n",
      "3       104550                  2.0                     17.0   \n",
      "4       104870                  6.0                     17.0   \n",
      "\n",
      "   structure_extrusion roof_type  \n",
      "0                 13.0      Flat  \n",
      "1                  8.5      Flat  \n",
      "2                 14.5       Hip  \n",
      "3                  2.5      Flat  \n",
      "4                  6.5      Flat  \n",
      "    structure_max_elevation  footprint_max_elevation  structure_min_elevation  \\\n",
      "7                      20.5                     19.5                     17.5   \n",
      "8                      23.5                     20.5                     17.5   \n",
      "9                      23.5                     23.5                     17.5   \n",
      "10                     23.5                     20.5                     17.0   \n",
      "11                     23.5                     23.5                     17.0   \n",
      "\n",
      "    property_id  footprint_extrusion  footprint_min_elevation  \\\n",
      "7        104873                  2.5                     17.5   \n",
      "8        100318                  3.0                     17.5   \n",
      "9        100322                  5.5                     17.5   \n",
      "10       104869                  3.5                     17.5   \n",
      "11       104869                  6.0                     17.5   \n",
      "\n",
      "    structure_extrusion roof_type  \n",
      "7                   2.0      Flat  \n",
      "8                   3.0      Flat  \n",
      "9                   6.0      Flat  \n",
      "10                  3.5       Hip  \n",
      "11                  6.5       Hip  \n"
     ]
    }
   ],
   "source": [
    "import matplotlib.pyplot as plt\n",
    "\n",
    "unique_property = dataFrame['property_id'].unique()\n",
    "test_property = unique_property[:5]\n",
    "train_property = unique_property[5:]\n",
    "\n",
    "leave_test = dataFrame[dataFrame['property_id'].isin(test_property)]\n",
    "leave_training = dataFrame[dataFrame['property_id'].isin(train_property)]\n",
    "\n",
    "print (leave_test.head())\n",
    "\n",
    "print (leave_training.head())"
   ]
  },
  {
   "cell_type": "code",
   "execution_count": 17,
   "id": "3cca754d76daee02",
   "metadata": {
    "ExecuteTime": {
     "end_time": "2023-08-12T05:18:46.136710Z",
     "start_time": "2023-08-12T05:18:46.042356Z"
    }
   },
   "outputs": [
    {
     "data": {
      "image/png": "[encoded data removed]",
      "text/plain": [
       "<Figure size 640x480 with 1 Axes>"
      ]
     },
     "metadata": {},
     "output_type": "display_data"
    }
   ],
   "source": [
    "labels = ['Random Split', 'Leave 5 Out']\n",
    "train_counts = [len(train_data), len(leave_training)]\n",
    "test_counts = [len(test_data), len(leave_test)]\n",
    "\n",
    "x = range(len(labels))\n",
    "\n",
    "plt.bar(x, train_counts, width=0.4, label='Training', color='b', align='center')\n",
    "plt.bar(x, test_counts, width=0.4, label='Testing', color='r', align='edge')\n",
    "\n",
    "\n",
    "for i, v in enumerate(train_counts):\n",
    "    plt.text(i, v + 10, str(v), ha='center', va='bottom')\n",
    "\n",
    "for i, v in enumerate(test_counts):\n",
    "    plt.text(i + 0.2, v + 10, str(v), ha='center', va='bottom')\n",
    "    \n",
    "plt.xlabel('Method')\n",
    "plt.ylabel('Number of Samples')\n",
    "plt.title('Comparison of Sampling Methods')\n",
    "plt.xticks(x, labels)\n",
    "plt.legend()\n",
    "plt.show()"
   ]
  },
  {
   "cell_type": "code",
   "execution_count": null,
   "id": "17d98b6951a339a3",
   "metadata": {},
   "outputs": [],
   "source": []
  }
 ],
 "metadata": {
  "kernelspec": {
   "display_name": "Python 3 (ipykernel)",
   "language": "python",
   "name": "python3"
  },
  "language_info": {
   "codemirror_mode": {
    "name": "ipython",
    "version": 3
   },
   "file_extension": ".py",
   "mimetype": "text/x-python",
   "name": "python",
   "nbconvert_exporter": "python",
   "pygments_lexer": "ipython3",
   "version": "3.10.12"
  }
 },
 "nbformat": 4,
 "nbformat_minor": 5
}
