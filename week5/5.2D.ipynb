{
 "cells": [
  {
   "cell_type": "markdown",
   "id": "764312d27b178944",
   "metadata": {},
   "source": [
    "# 1) What is the mechanism used by the Voting Classifier to aggregate predictions from multiple base models and their differences? Explain with suitable example. If predictions conflict among the base models, what strategies can be employed to resolve the conflicts and make more reliable final predictions in the Voting Classifier? "
   ]
  },
  {
   "cell_type": "raw",
   "id": "6b118eb47908d740",
   "metadata": {},
   "source": [
    "majority vote (hard voting) or averaging probabilities (soft voting).\n",
    "majority vote: Uses the mode of the predictions from base models\n",
    "averaging probabilities: Averages the probability estimates of the classifiers\n",
    "\n",
    "For conflicting predictions:\n",
    "Increasing Diversity: Different models or data subsets improve ensemble performance\n",
    "Weights: Classifiers can have weights based on performance\n",
    "Meta-Learners: Another model (meta-learner) is trained on the predictions of base classifiers\n",
    "\n",
    "Refs:\n",
    "\n",
    "Scikit-learn, (n.d.). 'Ensemble methods'. Scikit-learn Documentation. Available at: https://scikit-learn.org/stable/modules/ensemble.html#voting-classifier [Accessed on: 12 August 2023].\n",
    "StatQuest with Josh Starmer, (n.d.). 'Ensemble Learning, Clearly Explained!'. YouTube. Available at: https://www.youtube.com/watch?v=Un9zObFjBH0 [Accessed on: 12 August 2023].\n",
    "Analytics Vidhya, (2015). 'A Complete Guide to Ensemble Learning'. Analytics Vidhya Blog. Available at: https://www.analyticsvidhya.com/blog/2015/08/introduction-ensemble-learning/ [Accessed on: 12 August 2023].\n",
    "\n"
   ]
  },
  {
   "cell_type": "markdown",
   "id": "fe53410dd20e64cb",
   "metadata": {},
   "source": [
    "# 2) Prove that Elastic net can be used as either LASSO or Ridge regulariser."
   ]
  },
  {
   "cell_type": "markdown",
   "id": "59d911e8c33eca88",
   "metadata": {},
   "source": [
    "Elastic Net regularization is a linear combination of L1 and L2 regularization. Its objective function can be formulated as:\n",
    "\n",
    "$$\n",
    "J(\\theta) = \\mathrm{MSE}(\\theta) + r \\alpha \\sum_{i=1}^{n} |\\theta_i| + \\frac{1-r}{2} \\alpha \\sum_{i=1}^{n} \\theta_i^2\n",
    "$$\n",
    "\n",
    "Where:\n",
    "- $ J(\\theta) $ is the cost function.\n",
    "- $\\mathrm{MSE}(\\theta)$ stands for the Mean Squared Error.\n",
    "- $\\alpha$ is the regularization strength, equivalent to $\\lambda$ in some formulations.\n",
    "- $r$ is the mixing parameter between the L1 (LASSO) and L2 (Ridge) penalties. $r$ lies in the range [0,1].\n",
    "- $\\theta$ represents the parameter vector, and the summation runs over all its components.\n",
    "\n",
    "The two terms added to the MSE represent the L1 and L2 penalties:\n",
    "\n",
    "1. $ r \\alpha \\sum_{i=1}^{n} |\\theta_i| $ is the L1 penalty (LASSO). Elastic Net behaves as LASSO with a regularization strength of $\\alpha$ when $r = 1$.\n",
    "2. $ \\frac{1-r}{2} \\alpha \\sum_{i=1}^{n} \\theta_i^2 $ is the L2 penalty (Ridge). Elastic Net behaves as Ridge regression with a regularization strength of $\\alpha$ when $r = 0$.\n",
    "\n",
    "Based on the mixing parameter $r$:\n",
    "- When $r = 1$, the Elastic Net objective becomes:\n",
    "\n",
    "$$\n",
    "J(\\theta) = \\mathrm{MSE}(\\theta) + \\alpha \\sum_{i=1}^{n} |\\theta_i|\n",
    "$$\n",
    "\n",
    "This is essentially the cost function for LASSO regression.\n",
    "\n",
    "- When $r = 0$, the Elastic Net objective becomes:\n",
    "\n",
    "$$\n",
    "J(\\theta) = \\mathrm{MSE}(\\theta) + \\frac{1}{2} \\alpha \\sum_{i=1}^{n} \\theta_i^2\n",
    "$$\n",
    "\n",
    "This corresponds to the cost function for Ridge regression.\n",
    "\n",
    "Thus, by varying the parameter $r$, Elastic Net can be tailored to act as either LASSO (for $r = 1$) or Ridge (for $r = 0$) regularization.\n",
    "\n",
    "Reference:\n",
    "towards data science, (n.d.). 'Ridge, LASSO, and ElasticNet Regression'. Available at: https://towardsdatascience.com/ridge-lasso-and-elasticnet-regression-b1f9c00ea3a3 [Accessed on: 14 August 2023].\n",
    "\n"
   ]
  },
  {
   "cell_type": "code",
   "execution_count": 42,
   "id": "9f6d0f3e2e1702c3",
   "metadata": {
    "ExecuteTime": {
     "end_time": "2023-09-23T15:24:01.648837Z",
     "start_time": "2023-09-23T15:23:56.087823Z"
    }
   },
   "outputs": [
    {
     "name": "stdout",
     "output_type": "stream",
     "text": [
      "dropped columns: 1\n",
      "(60000, 160)\n",
      "(16000, 160)\n"
     ]
    },
    {
     "name": "stderr",
     "output_type": "stream",
     "text": [
      "/var/folders/wm/9249ptms42j2m107t1f43kq00000gn/T/ipykernel_69540/1662538642.py:47: SettingWithCopyWarning: \n",
      "A value is trying to be set on a copy of a slice from a DataFrame\n",
      "\n",
      "See the caveats in the documentation: https://pandas.pydata.org/pandas-docs/stable/user_guide/indexing.html#returning-a-view-versus-a-copy\n",
      "  training.drop(\"class\",axis=1, inplace=True)\n",
      "/var/folders/wm/9249ptms42j2m107t1f43kq00000gn/T/ipykernel_69540/1662538642.py:50: SettingWithCopyWarning: \n",
      "A value is trying to be set on a copy of a slice from a DataFrame\n",
      "\n",
      "See the caveats in the documentation: https://pandas.pydata.org/pandas-docs/stable/user_guide/indexing.html#returning-a-view-versus-a-copy\n",
      "  test.drop(\"class\",axis=1, inplace=True)\n"
     ]
    }
   ],
   "source": [
    "import numpy as np\n",
    "import pandas as pd\n",
    "from sklearn.impute import SimpleImputer\n",
    "from sklearn.feature_selection import VarianceThreshold\n",
    "\n",
    "training = pd.read_csv(\"aps_failure_training_set.csv\",  skiprows=20)\n",
    "test = pd.read_csv(\"aps_failure_test_set.csv\", skiprows=20)\n",
    "\n",
    "training = training.replace('na',np.NaN)\n",
    "test = test.replace('na',np.NaN)\n",
    "#prepare class (Just another simpler way to create a binary sampler)\n",
    "training[\"class\"] = training[\"class\"].map({'neg':0, 'pos':1})\n",
    "test[\"class\"] = test[\"class\"].map({'neg':0, 'pos':1})\n",
    "\n",
    "# drop the features with more than 30% of null values on the training set\n",
    "training = training.loc[:, training.isnull().mean() <= 0.3 ]\n",
    "test = test[training.columns]\n",
    "\n",
    "#Replace the outstanding by the means of the column.\n",
    "impouter = SimpleImputer(strategy=\"median\")\n",
    "ttemp = pd.DataFrame(impouter.fit_transform(training))\n",
    "testemp = pd.DataFrame(impouter.fit_transform(test))\n",
    "ttemp.columns = training.columns\n",
    "testemp.columns = training.columns\n",
    "ttemp.index = training.index\n",
    "testemp.index = test.index\n",
    "training = ttemp\n",
    "test = testemp\n",
    "\n",
    "\n",
    "# removing features with zero variance\n",
    "selector = VarianceThreshold()\n",
    "selector.fit_transform(training)\n",
    "selected_columns = training.columns[(selector.get_support())]\n",
    "print(\"dropped columns:\", len(set(training.columns) - set(selected_columns)))\n",
    "\n",
    "training = training[selected_columns]\n",
    "test = test[training.columns]\n",
    "print(training.shape)\n",
    "print(test.shape)\n",
    "\n",
    "\n",
    " \n",
    "\n",
    "\n",
    "y_training = training[\"class\"].copy()\n",
    "training.drop(\"class\",axis=1, inplace=True)\n",
    "\n",
    "y_test = test[\"class\"].copy()\n",
    "test.drop(\"class\",axis=1, inplace=True)"
   ]
  },
  {
   "cell_type": "markdown",
   "source": [
    "# 3) Analyse the importance of the features for predicting “class” using two different approaches. Explain the similarity/difference between outcomes."
   ],
   "metadata": {
    "collapsed": false
   },
   "id": "ebf05f4b7384066d"
  },
  {
   "cell_type": "code",
   "execution_count": 89,
   "id": "e94cb6dd",
   "metadata": {
    "ExecuteTime": {
     "end_time": "2023-09-23T16:52:50.073393Z",
     "start_time": "2023-09-23T16:52:47.181794Z"
    }
   },
   "outputs": [
    {
     "name": "stdout",
     "output_type": "stream",
     "text": [
      "    Feature  Importance\n",
      "0    aa_000    1.963743\n",
      "71   bt_000   -1.490409\n",
      "8    ag_003    0.913868\n",
      "24   aq_000    0.795674\n",
      "78   cb_000   -0.789870\n",
      "75   by_000    0.736367\n",
      "70   bs_000    0.686791\n",
      "67   bh_000   -0.678977\n",
      "5    ag_000   -0.585655\n",
      "21   an_000    0.574184\n",
      "154  ee_007   -0.498203\n",
      "22   ao_000   -0.487912\n",
      "95   cn_006   -0.448988\n",
      "39   ay_008    0.400351\n",
      "150  ee_003   -0.382486\n",
      "132  do_000    0.375617\n",
      "6    ag_001    0.372359\n",
      "79   cc_000    0.370008\n",
      "74   bx_000   -0.365607\n",
      "137  dt_000    0.363720\n"
     ]
    },
    {
     "data": {
      "text/plain": "<Figure size 1200x800 with 1 Axes>",
      "image/png": "[encoded data removed]"
     },
     "metadata": {},
     "output_type": "display_data"
    }
   ],
   "source": [
    "from sklearn.preprocessing import StandardScaler\n",
    "from sklearn.linear_model import LogisticRegression\n",
    "from matplotlib import pyplot as plt\n",
    "\n",
    "#log\n",
    "scaler = StandardScaler().fit(training)\n",
    "x_log = pd.DataFrame(scaler.transform(training), columns= training.columns.values) \n",
    "x_test = pd.DataFrame(scaler.transform(test), columns= test.columns.values) \n",
    "logist = LogisticRegression(max_iter=10000)\n",
    "logist.fit(x_log,y_training)\n",
    "coefficients = logist.coef_[0]\n",
    "coeff_df = pd.DataFrame({'Feature': training.columns, 'Importance': coefficients})\n",
    "\n",
    "# Sort dataframe by absolute coefficient values in descending order\n",
    "coeff_df = coeff_df.reindex(coeff_df.Importance.abs().sort_values(ascending=False).index)\n",
    "# Get the first 20 features\n",
    "top_20_features = coeff_df.iloc[:20]\n",
    "print(top_20_features)    \n",
    "# Visualize the coefficients of the first 20 features\n",
    "plt.figure(figsize=(12, 8))\n",
    "plt.bar(top_20_features['Feature'], top_20_features['Importance'])\n",
    "plt.xlabel('Feature')\n",
    "plt.ylabel('Coefficient')\n",
    "plt.title('Feature Importance from Logistic Regression (Top 20 Features)')\n",
    "plt.xticks(rotation=45)\n",
    "plt.show()    "
   ]
  },
  {
   "cell_type": "markdown",
   "source": [],
   "metadata": {
    "collapsed": false
   },
   "id": "30f8d5babba9b21f"
  },
  {
   "cell_type": "code",
   "execution_count": 44,
   "outputs": [
    {
     "name": "stdout",
     "output_type": "stream",
     "text": [
      "Current N of features: 159\n"
     ]
    }
   ],
   "source": [
    "print(\"Current N of features:\", len(training.columns))"
   ],
   "metadata": {
    "collapsed": false,
    "ExecuteTime": {
     "end_time": "2023-09-23T15:24:33.517059Z",
     "start_time": "2023-09-23T15:24:33.505802Z"
    }
   },
   "id": "a2e9f64324574495"
  },
  {
   "cell_type": "code",
   "execution_count": 59,
   "outputs": [],
   "source": [
    "from sklearn.metrics import accuracy_score, confusion_matrix, precision_score, f1_score, r2_score\n",
    "## Same method used in Week 7 Exercise.\n",
    "def print_model_metrics(true_labels, predicted_labels):\n",
    "    # Calculate metrics for classification problems\n",
    "    acc = accuracy_score(true_labels, predicted_labels)\n",
    "    conf_matrix = confusion_matrix(true_labels, predicted_labels)\n",
    "    prec = precision_score(true_labels, predicted_labels, average='macro')\n",
    "    f1 = f1_score(true_labels, predicted_labels, average='binary') # for multiclass problems.,→ Use 'binary' for binary \n",
    "    r2 = r2_score(true_labels, predicted_labels)\n",
    "# problems\n",
    "    # Print metrics\n",
    "    print(\"Accuracy:\", acc)\n",
    "    print(\"\\nConfusion Matrix:\\n\", conf_matrix)\n",
    "    print(\"\\nPrecision:\", prec)\n",
    "    print(\"\\nF1 Score:\", f1)\n",
    "    print(\"\\nR2 Score:\", r2)\n"
   ],
   "metadata": {
    "collapsed": false,
    "ExecuteTime": {
     "end_time": "2023-09-23T16:01:23.025320Z",
     "start_time": "2023-09-23T16:01:23.010713Z"
    }
   },
   "id": "f0a5e4092eea1926"
  },
  {
   "cell_type": "code",
   "execution_count": 84,
   "outputs": [
    {
     "name": "stdout",
     "output_type": "stream",
     "text": [
      "Fitting 5 folds for each of 240 candidates, totalling 1200 fits\n",
      "Best hyperparameters: {'max_depth': 10, 'max_features': None, 'min_samples_leaf': 1, 'min_samples_split': 5}\n"
     ]
    }
   ],
   "source": [
    "from sklearn.tree import DecisionTreeClassifier\n",
    "from sklearn.inspection import permutation_importance\n",
    "from sklearn.model_selection import GridSearchCV\n",
    "\n",
    "# Define hyperparameter grid\n",
    "param_grid = {\n",
    "    'max_depth': [3, 5, 7, 10, None],\n",
    "    'min_samples_split': [2, 5, 10, 15],\n",
    "    'min_samples_leaf': [1, 2, 5, 10],\n",
    "    'max_features': ['sqrt', 'log2', None]\n",
    "}\n",
    "tree = DecisionTreeClassifier(random_state=13)\n",
    "\n",
    "# Initialize GridSearch\n",
    "grid_search = GridSearchCV(tree, param_grid, cv=5, scoring='accuracy', n_jobs=-1, verbose=1, error_score='raise')\n",
    "\n",
    "# Fit the model\n",
    "grid_search.fit(training, y_training )\n",
    "\n",
    "# Get best hyperparameters\n",
    "best_params = grid_search.best_params_\n",
    "print(\"Best hyperparameters:\", best_params)\n",
    "\n",
    "\n"
   ],
   "metadata": {
    "collapsed": false,
    "ExecuteTime": {
     "end_time": "2023-09-23T16:47:26.482294Z",
     "start_time": "2023-09-23T16:39:12.901007Z"
    }
   },
   "id": "93efa5aa0907a5ab"
  },
  {
   "cell_type": "code",
   "execution_count": 85,
   "outputs": [],
   "source": [
    "from sklearn.inspection import permutation_importance\n",
    "\n",
    "# Initialize and train the decision tree\n",
    "tree = DecisionTreeClassifier(random_state=13, max_depth=10, max_features=None, min_samples_leaf=1, min_samples_split=5)\n",
    "x_tree = training\n",
    "tree.fit(x_tree, y_training)\n",
    "# Compute the permutation importance using the test dataset\n",
    "result = permutation_importance(tree, test, y_test, n_repeats=10, random_state=13)\n",
    "# Get indices for the top 20 features and sort them in descending order of importance\n",
    "sorted_idx = result.importances_mean.argsort()[-20:][::-1]"
   ],
   "metadata": {
    "collapsed": false,
    "ExecuteTime": {
     "end_time": "2023-09-23T16:48:51.237336Z",
     "start_time": "2023-09-23T16:48:30.759569Z"
    }
   },
   "id": "9a505bf5a92614ce"
  },
  {
   "cell_type": "code",
   "execution_count": 86,
   "outputs": [
    {
     "data": {
      "text/plain": "<Figure size 640x480 with 1 Axes>",
      "image/png": "[encoded data removed]"
     },
     "metadata": {},
     "output_type": "display_data"
    }
   ],
   "source": [
    "plt.bar(test.columns[sorted_idx], result.importances_mean[sorted_idx])\n",
    "plt.ylabel(\"Permutation Importance\")\n",
    "plt.xticks(rotation=45)  # Optionally rotate x-axis labels for better readability\n",
    "plt.tight_layout()  # Ensures that labels and titles fit into the figure\n",
    "plt.show()"
   ],
   "metadata": {
    "collapsed": false,
    "ExecuteTime": {
     "end_time": "2023-09-23T16:48:55.023616Z",
     "start_time": "2023-09-23T16:48:54.911610Z"
    }
   },
   "id": "43bfa2e8a78c817c"
  },
  {
   "cell_type": "code",
   "execution_count": 86,
   "outputs": [],
   "source": [],
   "metadata": {
    "collapsed": false,
    "ExecuteTime": {
     "end_time": "2023-09-23T16:49:03.258706Z",
     "start_time": "2023-09-23T16:49:03.248716Z"
    }
   },
   "id": "8e50849a5f9bf9e4"
  },
  {
   "cell_type": "raw",
   "source": [
    "Tree classifier: For the tree classifier, used sklearn permutation_importance lib to calculate the individual importanbce of the features. \n",
    "Logistic Regression: Feature importance is typically determined based on the absolute values of the coefficients. Regularization can shrink the coefficients, but without L1 regularization, it will not set them to zero.\n",
    "\n",
    "The results are quite different and this is proposital. As this is a classification problem, using a regression model to calculate feature importance might not be the best Idea. Still, I wanted to check the differences."
   ],
   "metadata": {
    "collapsed": false
   },
   "id": "4222eae440b04da8"
  },
  {
   "cell_type": "markdown",
   "source": [
    "\n",
    "# 4. Create three supervised machine learning (ML) models except any ensemble approach for predicting “class''.\n",
    "a. Report performance score using a suitable metric. Is it possible that the presented result is an overfitted one? Justify.\n",
    "b. Justify different design decisions for each ML model used to answer this question.\n",
    "c. Have you optimised any hyper-parameters for each ML model? What are they? Why have you done that? Explain.\n",
    "d. Finally, make a recommendation based on the reported results and justify it."
   ],
   "metadata": {
    "collapsed": false
   },
   "id": "d5998d17dc8f2480"
  },
  {
   "cell_type": "code",
   "execution_count": 90,
   "outputs": [
    {
     "name": "stdout",
     "output_type": "stream",
     "text": [
      "Accuracy: 0.9898125\n",
      "\n",
      "Confusion Matrix:\n",
      " [[15573    52]\n",
      " [  111   264]]\n",
      "\n",
      "Precision: 0.9141828808848169\n",
      "\n",
      "F1 Score: 0.76410998552822\n",
      "\n",
      "R2 Score: 0.5549013333333334\n"
     ]
    }
   ],
   "source": [
    "#will reuse the already fitted tree Classifier and linear regressions.\n",
    "log_predic = logist.predict(x_test)\n",
    "print_model_metrics(y_test,log_predic)\n",
    "\n",
    "\n"
   ],
   "metadata": {
    "collapsed": false,
    "ExecuteTime": {
     "end_time": "2023-09-23T16:53:59.652214Z",
     "start_time": "2023-09-23T16:53:59.606521Z"
    }
   },
   "id": "56db1aa82ee49184"
  },
  {
   "cell_type": "code",
   "execution_count": 91,
   "outputs": [
    {
     "name": "stdout",
     "output_type": "stream",
     "text": [
      "Accuracy: 0.989875\n",
      "\n",
      "Confusion Matrix:\n",
      " [[15592    33]\n",
      " [  129   246]]\n",
      "\n",
      "Precision: 0.9367574226105346\n",
      "\n",
      "F1 Score: 0.7522935779816514\n",
      "\n",
      "R2 Score: 0.557632\n"
     ]
    }
   ],
   "source": [
    "tree_pred = tree.predict(test)\n",
    "print_model_metrics(y_test,tree_pred)\n"
   ],
   "metadata": {
    "collapsed": false,
    "ExecuteTime": {
     "end_time": "2023-09-23T16:54:16.166446Z",
     "start_time": "2023-09-23T16:54:16.108838Z"
    }
   },
   "id": "ca4739b824581ded"
  },
  {
   "cell_type": "code",
   "execution_count": 93,
   "outputs": [
    {
     "name": "stdout",
     "output_type": "stream",
     "text": [
      "Accuracy: 0.987375\n",
      "\n",
      "Confusion Matrix:\n",
      " [[15569    56]\n",
      " [  146   229]]\n",
      "\n",
      "Precision: 0.8971091425668849\n",
      "\n",
      "F1 Score: 0.693939393939394\n",
      "\n",
      "R2 Score: 0.4484053333333333\n"
     ]
    }
   ],
   "source": [
    "from sklearn.linear_model import SGDClassifier\n",
    "\n",
    "sgd = SGDClassifier()\n",
    "sgd.fit(x_log,y_training)\n",
    "\n",
    "sgd_result = sgd.predict(x_test)\n",
    "print_model_metrics(y_test,sgd_result)"
   ],
   "metadata": {
    "collapsed": false,
    "ExecuteTime": {
     "end_time": "2023-09-23T17:15:40.980011Z",
     "start_time": "2023-09-23T17:15:36.740443Z"
    }
   },
   "id": "905d8b069634e680"
  },
  {
   "cell_type": "markdown",
   "source": [
    "a) The logistic regression model seems to be performing well, especially given the high accuracy and precision. The F1 score indicates a sub-optimal fitting.\n",
    "The  Tree classifier has a comparable performance to the logistic regression model with almost the same accuracy. It offers better precision (fewer false positives) but it is struggling more with false negatives, as we can see in the confusion matrix.\n",
    "The SGD has a slight lower acc. It also has more false positives.\n"
   ],
   "metadata": {
    "collapsed": false
   },
   "id": "5fdcea26abea2c16"
  },
  {
   "cell_type": "markdown",
   "source": [
    "b) I think the biggest design decision was related to the tree model, where the model was run without normalising the test and training features. That decision nwas due to the way the model creates the decision trees, what makes it less propense to overcompensate the individual feature values."
   ],
   "metadata": {
    "collapsed": false
   },
   "id": "50425273e4764996"
  },
  {
   "cell_type": "raw",
   "source": [
    "c) I used a grid seach methodology to optimize the hyperparameters of the decision tree. It was quite time consuming and the results were good.\n",
    "\n",
    "d) If the priority is to achieve a balance between precision and recall, I would reccomend the Logistic Regression as it has the highest F1 score.\n",
    "If minimizing False Positives is the most important, I would recommend the tree classifier as it has a higher precision than all the models.\n",
    "I would not suggest the SGD as it has lower metrics across all metrics."
   ],
   "metadata": {
    "collapsed": false
   },
   "id": "a2e41a11044a0030"
  },
  {
   "cell_type": "markdown",
   "source": [
    "# 5. Build three ensemble models including voting classifier for predicting “class”."
   ],
   "metadata": {
    "collapsed": false
   },
   "id": "22989fae4bd04051"
  },
  {
   "cell_type": "code",
   "execution_count": 98,
   "outputs": [
    {
     "name": "stdout",
     "output_type": "stream",
     "text": [
      "Accuracy: 0.992125\n",
      "\n",
      "Confusion Matrix:\n",
      " [[15606    19]\n",
      " [  107   268]]\n",
      "\n",
      "Precision: 0.9634941306727757\n",
      "\n",
      "F1 Score: 0.809667673716012\n",
      "\n",
      "R2 Score: 0.6559360000000001\n"
     ]
    }
   ],
   "source": [
    "from sklearn.ensemble import BaggingClassifier, RandomForestClassifier, VotingClassifier\n",
    "from sklearn.tree import DecisionTreeClassifier\n",
    "from sklearn.svm import SVC\n",
    "\n",
    "bagging_clf = BaggingClassifier(estimator=DecisionTreeClassifier(),\n",
    "                                n_estimators=50,\n",
    "                                random_state=13)\n",
    "bagging_clf.fit(x_log, y_training)\n",
    "bagging_result = bagging_clf.predict(x_test)\n",
    "print_model_metrics(y_test,bagging_result)\n"
   ],
   "metadata": {
    "collapsed": false,
    "ExecuteTime": {
     "end_time": "2023-09-23T23:13:11.811615Z",
     "start_time": "2023-09-23T23:05:59.186422Z"
    }
   },
   "id": "d59b5893d09e05e7"
  },
  {
   "cell_type": "code",
   "execution_count": 102,
   "outputs": [
    {
     "name": "stdout",
     "output_type": "stream",
     "text": [
      "Accuracy: 0.991625\n",
      "\n",
      "Confusion Matrix:\n",
      " [[15605    20]\n",
      " [  114   261]]\n",
      "\n",
      "Precision: 0.9607866265160891\n",
      "\n",
      "F1 Score: 0.7957317073170731\n",
      "\n",
      "R2 Score: 0.6340906666666667\n"
     ]
    }
   ],
   "source": [
    "# 2. Random Forest Classifier\n",
    "rf_clf = RandomForestClassifier(n_estimators=50, random_state=13)\n",
    "rf_clf.fit(x_tree, y_training)\n",
    "rf_results = rf_clf.predict(test)\n",
    "print_model_metrics(y_test,rf_results)"
   ],
   "metadata": {
    "collapsed": false,
    "ExecuteTime": {
     "end_time": "2023-09-23T23:16:59.893200Z",
     "start_time": "2023-09-23T23:16:35.343663Z"
    }
   },
   "id": "6d7517acfe9c4c55"
  },
  {
   "cell_type": "code",
   "execution_count": 101,
   "outputs": [
    {
     "name": "stdout",
     "output_type": "stream",
     "text": [
      "Accuracy: 0.9894375\n",
      "\n",
      "Confusion Matrix:\n",
      " [[15577    48]\n",
      " [  121   254]]\n",
      "\n",
      "Precision: 0.9166758071851224\n",
      "\n",
      "F1 Score: 0.7503692762186114\n",
      "\n",
      "R2 Score: 0.5385173333333333\n"
     ]
    }
   ],
   "source": [
    "# 3. Voting Classifier\n",
    "log_clf = logist\n",
    "svc_clf = sgd \n",
    "dt_clf = tree\n",
    "\n",
    "voting_clf = VotingClassifier(estimators=[('lr', log_clf), ('svc', svc_clf), ('dt', dt_clf)],\n",
    "                              voting='hard')\n",
    "voting_clf.fit(x_log, y_training)\n",
    "voting_pred = voting_clf.predict(x_test)\n",
    "print_model_metrics(y_test,voting_pred)"
   ],
   "metadata": {
    "collapsed": false,
    "ExecuteTime": {
     "end_time": "2023-09-23T23:14:11.195885Z",
     "start_time": "2023-09-23T23:14:00.236353Z"
    }
   },
   "id": "33eac57f9fb45d54"
  },
  {
   "cell_type": "markdown",
   "source": [
    "a) When do you want to use ensemble models over other ML models? Explain based on the\n",
    "models that you have used in Q4 and Q5.\n",
    "Ensemble models are used when:\n",
    "- You want to reduce overfitting by combining multiple models.\n",
    "- You want to improve performance by leveraging the strengths of different models.\n",
    "- You're dealing with complex problems that are hard for a single model to solve.\n",
    "In the examples from Q5, we used ensemble models like Bagging, Random Forest, and Voting Classifier to combine predictions from multiple models to improve accuracy and robustness. These ensembles are especially useful when individual models have different strengths and weaknesses."
   ],
   "metadata": {
    "collapsed": false
   },
   "id": "ed309fadedee17c3"
  },
  {
   "cell_type": "markdown",
   "source": [
    "b. What are the similarities or differences between among used ensemble models in Q5?\n",
    "All the ensemble methods mentioned in Q5 (Bagging, Random Forest, and Voting Classifier) involve combining the predictions of multiple models to produce a single prediction\n",
    "Bagging and Random Forest use the same type of base models (typically decision trees), while a Voting Classifier can combine different types of classifiers, such as Logistic Regression, SGD, and Decision Trees."
   ],
   "metadata": {
    "collapsed": false
   },
   "id": "ec58fae7a13533c0"
  },
  {
   "cell_type": "markdown",
   "source": [
    "c. Is there any preferable scenario for using any specific model among the set of ensemble\n",
    "models? Explain based on obtained outcomes.\n",
    "*Bagging Classifier:* Use when a single model tends to overfit. Good for reducing variance.\n",
    "*Random Forest Classifier:* Use for a balance of bias and variance reduction. Especially useful with many features.\n",
    "*Voting Classifier:* Use when you have different models with complementary strengths. Combines their predictions for better performance.\n",
    "in our case, the voting classifier was more precise with 97% accuracy."
   ],
   "metadata": {
    "collapsed": false
   },
   "id": "dd5ead2a9c7f88b5"
  },
  {
   "cell_type": "markdown",
   "source": [
    "d. Write a report comparing performances of models built in question 4 and 5. Report the best\n",
    "method based on model complexity and performance. (attached)"
   ],
   "metadata": {
    "collapsed": false
   },
   "id": "1bd91317cec16583"
  },
  {
   "cell_type": "raw",
   "source": [
    "e.Is it possible to build ensemble model using ML classifiers other than decision tree? If yes,\n",
    "then explain with an example.\n",
    "Yes. We have used the Votting classifier, in this ensemble we used logistic regression, tree and SGD to get to a voting decision on the  "
   ],
   "metadata": {
    "collapsed": false
   },
   "id": "55062996ddbd9288"
  },
  {
   "cell_type": "code",
   "execution_count": null,
   "outputs": [],
   "source": [],
   "metadata": {
    "collapsed": false
   },
   "id": "96fadf3ab82291f0"
  }
 ],
 "metadata": {
  "kernelspec": {
   "display_name": "Python 3 (ipykernel)",
   "language": "python",
   "name": "python3"
  },
  "language_info": {
   "codemirror_mode": {
    "name": "ipython",
    "version": 3
   },
   "file_extension": ".py",
   "mimetype": "text/x-python",
   "name": "python",
   "nbconvert_exporter": "python",
   "pygments_lexer": "ipython3",
   "version": "3.10.12"
  }
 },
 "nbformat": 4,
 "nbformat_minor": 5
}
