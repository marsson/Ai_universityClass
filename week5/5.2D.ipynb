{
 "cells": [
  {
   "cell_type": "markdown",
   "id": "764312d27b178944",
   "metadata": {},
   "source": [
    "# 1) What is the mechanism used by the Voting Classifier to aggregate predictions from multiple base models and their differences? Explain with suitable example. If predictions conflict among the base models, what strategies can be employed to resolve the conflicts and make more reliable final predictions in the Voting Classifier? "
   ]
  },
  {
   "cell_type": "raw",
   "id": "6b118eb47908d740",
   "metadata": {},
   "source": [
    "majority vote (hard voting) or averaging probabilities (soft voting).\n",
    "majority vote: Uses the mode of the predictions from base models\n",
    "averaging probabilities: Averages the probability estimates of the classifiers\n",
    "\n",
    "For conflicting predictions:\n",
    "Increasing Diversity: Different models or data subsets improve ensemble performance\n",
    "Weights: Classifiers can have weights based on performance\n",
    "Meta-Learners: Another model (meta-learner) is trained on the predictions of base classifiers\n",
    "\n",
    "Refs:\n",
    "\n",
    "Scikit-learn, (n.d.). 'Ensemble methods'. Scikit-learn Documentation. Available at: https://scikit-learn.org/stable/modules/ensemble.html#voting-classifier [Accessed on: 12 August 2023].\n",
    "StatQuest with Josh Starmer, (n.d.). 'Ensemble Learning, Clearly Explained!'. YouTube. Available at: https://www.youtube.com/watch?v=Un9zObFjBH0 [Accessed on: 12 August 2023].\n",
    "Analytics Vidhya, (2015). 'A Complete Guide to Ensemble Learning'. Analytics Vidhya Blog. Available at: https://www.analyticsvidhya.com/blog/2015/08/introduction-ensemble-learning/ [Accessed on: 12 August 2023].\n",
    "\n"
   ]
  },
  {
   "cell_type": "markdown",
   "id": "fe53410dd20e64cb",
   "metadata": {},
   "source": [
    "# 2) Prove that Elastic net can be used as either LASSO or Ridge regulariser."
   ]
  },
  {
   "cell_type": "markdown",
   "id": "59d911e8c33eca88",
   "metadata": {},
   "source": [
    "Elastic Net regularization is a linear combination of L1 and L2 regularization. Its objective function can be formulated as:\n",
    "\n",
    "$$\n",
    "J(\\theta) = \\mathrm{MSE}(\\theta) + r \\alpha \\sum_{i=1}^{n} |\\theta_i| + \\frac{1-r}{2} \\alpha \\sum_{i=1}^{n} \\theta_i^2\n",
    "$$\n",
    "\n",
    "Where:\n",
    "- $ J(\\theta) $ is the cost function.\n",
    "- $\\mathrm{MSE}(\\theta)$ stands for the Mean Squared Error.\n",
    "- $\\alpha$ is the regularization strength, equivalent to $\\lambda$ in some formulations.\n",
    "- $r$ is the mixing parameter between the L1 (LASSO) and L2 (Ridge) penalties. $r$ lies in the range [0,1].\n",
    "- $\\theta$ represents the parameter vector, and the summation runs over all its components.\n",
    "\n",
    "The two terms added to the MSE represent the L1 and L2 penalties:\n",
    "\n",
    "1. $ r \\alpha \\sum_{i=1}^{n} |\\theta_i| $ is the L1 penalty (LASSO). Elastic Net behaves as LASSO with a regularization strength of $\\alpha$ when $r = 1$.\n",
    "2. $ \\frac{1-r}{2} \\alpha \\sum_{i=1}^{n} \\theta_i^2 $ is the L2 penalty (Ridge). Elastic Net behaves as Ridge regression with a regularization strength of $\\alpha$ when $r = 0$.\n",
    "\n",
    "Based on the mixing parameter $r$:\n",
    "- When $r = 1$, the Elastic Net objective becomes:\n",
    "\n",
    "$$\n",
    "J(\\theta) = \\mathrm{MSE}(\\theta) + \\alpha \\sum_{i=1}^{n} |\\theta_i|\n",
    "$$\n",
    "\n",
    "This is essentially the cost function for LASSO regression.\n",
    "\n",
    "- When $r = 0$, the Elastic Net objective becomes:\n",
    "\n",
    "$$\n",
    "J(\\theta) = \\mathrm{MSE}(\\theta) + \\frac{1}{2} \\alpha \\sum_{i=1}^{n} \\theta_i^2\n",
    "$$\n",
    "\n",
    "This corresponds to the cost function for Ridge regression.\n",
    "\n",
    "Thus, by varying the parameter $r$, Elastic Net can be tailored to act as either LASSO (for $r = 1$) or Ridge (for $r = 0$) regularization.\n",
    "\n",
    "Reference:\n",
    "towards data science, (n.d.). 'Ridge, LASSO, and ElasticNet Regression'. Available at: https://towardsdatascience.com/ridge-lasso-and-elasticnet-regression-b1f9c00ea3a3 [Accessed on: 14 August 2023].\n",
    "\n"
   ]
  },
  {
   "cell_type": "code",
   "execution_count": 142,
   "id": "9f6d0f3e2e1702c3",
   "metadata": {
    "ExecuteTime": {
     "end_time": "2023-08-20T04:09:54.680656Z",
     "start_time": "2023-08-20T04:09:48.440758Z"
    }
   },
   "outputs": [
    {
     "name": "stdout",
     "output_type": "stream",
     "text": [
      "dropped columns: 1\n",
      "(60000, 161)\n",
      "(16000, 161)\n"
     ]
    }
   ],
   "source": [
    "import numpy as np\n",
    "import pandas as pd\n",
    "from sklearn.impute import SimpleImputer\n",
    "from sklearn.feature_selection import VarianceThreshold\n",
    "\n",
    "training = pd.read_csv(\"aps_failure_training_set.csv\",  skiprows=20)\n",
    "test = pd.read_csv(\"aps_failure_test_set.csv\", skiprows=20)\n",
    "\n",
    "#prepare class:\n",
    "training[\"class\"] = training[\"class\"].map({'neg':0, 'pos':1})\n",
    "test[\"class\"] = test[\"class\"].map({'neg':0, 'pos':1})\n",
    " \n",
    "training = training.replace('na',np.NaN)\n",
    "test = test.replace('na',np.NaN)\n",
    "\n",
    "y_training = training[\"class\"]\n",
    "training.drop(\"class\",axis=1, inplace=True)\n",
    "\n",
    "y_test = test[\"class\"]\n",
    "test.drop(\"class\",axis=1, inplace=True)\n",
    "\n",
    "# drop the features with more than 50% of null values on the training set\n",
    "training = training.loc[:, training.isnull().mean() <= 0.5 ]\n",
    "test = test[training.columns]\n",
    "\n",
    "#Replace the outstanding by the means of the column.\n",
    "impouter = SimpleImputer(strategy=\"median\")\n",
    "ttemp = pd.DataFrame(impouter.fit_transform(training))\n",
    "testemp = pd.DataFrame(impouter.fit_transform(test))\n",
    "ttemp.columns = training.columns\n",
    "testemp.columns = training.columns\n",
    "ttemp.index = training.index\n",
    "testemp.index = test.index\n",
    "training = ttemp\n",
    "test = testemp\n",
    "# removing features with zero variance\n",
    "selector = VarianceThreshold()\n",
    "selector.fit_transform(training)\n",
    "selected_columns = training.columns[(selector.get_support())]\n",
    "print(\"dropped columns:\", len(set(training.columns) - set(selected_columns)))\n",
    "\n",
    "training = training[selected_columns]\n",
    "test = test[training.columns]\n",
    "print(training.shape)\n",
    "print(test.shape)"
   ]
  },
  {
   "cell_type": "code",
   "execution_count": 142,
   "outputs": [],
   "source": [],
   "metadata": {
    "collapsed": false,
    "ExecuteTime": {
     "end_time": "2023-08-20T04:10:08.559221Z",
     "start_time": "2023-08-20T04:10:08.549299Z"
    }
   },
   "id": "f723dc792ab33edb"
  },
  {
   "cell_type": "markdown",
   "source": [
    "# 3) Analyse the importance of the features for predicting “class” using two different approaches. Explain the similarity/difference between outcomes."
   ],
   "metadata": {
    "collapsed": false
   },
   "id": "ebf05f4b7384066d"
  },
  {
   "cell_type": "code",
   "execution_count": 143,
   "id": "e94cb6dd",
   "metadata": {
    "ExecuteTime": {
     "end_time": "2023-08-20T04:10:35.299689Z",
     "start_time": "2023-08-20T04:10:09.979442Z"
    }
   },
   "outputs": [
    {
     "name": "stdout",
     "output_type": "stream",
     "text": [
      "    Feature    Importance\n",
      "83   cf_000 -2.317268e-05\n",
      "49   az_008 -9.061393e-06\n",
      "7    ag_002  7.311875e-06\n",
      "131  dl_000 -6.606726e-06\n",
      "60   ba_009 -4.908950e-06\n",
      "89   cl_000 -4.744418e-06\n",
      "28   au_000  3.887212e-06\n",
      "17   aj_000 -3.436815e-06\n",
      "143  dy_000 -3.201945e-06\n",
      "118  cy_000 -2.869821e-06\n",
      "1    ac_000 -2.433115e-06\n",
      "5    ag_000 -1.858343e-06\n",
      "101  co_000 -1.759535e-06\n",
      "113  cs_009 -1.576012e-06\n",
      "91   cn_000 -1.535271e-06\n",
      "142  dx_000 -1.171723e-06\n",
      "50   az_009 -1.020660e-06\n",
      "18   ak_000  6.126607e-07\n",
      "129  dj_000 -4.569964e-07\n",
      "126  dg_000  4.551900e-07\n"
     ]
    },
    {
     "data": {
      "text/plain": "<Figure size 1200x800 with 1 Axes>",
      "image/png": "[encoded data removed]"
     },
     "metadata": {},
     "output_type": "display_data"
    }
   ],
   "source": [
    "from sklearn.preprocessing import RobustScaler\n",
    "from sklearn.linear_model import LogisticRegression\n",
    "from matplotlib import pyplot as plt\n",
    "\n",
    "#log\n",
    "scaler = RobustScaler()\n",
    "x_log = pd.DataFrame(scaler.fit_transform(training))\n",
    "logist = LogisticRegression(max_iter=10000)\n",
    "logist.fit(x_log,y_training)\n",
    "coefficients = logist.coef_[0]\n",
    "coeff_df = pd.DataFrame({'Feature': training.columns, 'Importance': coefficients})\n",
    "\n",
    "# Sort dataframe by absolute coefficient values in descending order\n",
    "coeff_df = coeff_df.reindex(coeff_df.Importance.abs().sort_values(ascending=False).index)\n",
    "# Get the first 20 features\n",
    "top_20_features = coeff_df.iloc[:20]\n",
    "print(top_20_features)    \n",
    "# Visualize the coefficients of the first 20 features\n",
    "plt.figure(figsize=(12, 8))\n",
    "plt.bar(top_20_features['Feature'], top_20_features['Importance'])\n",
    "plt.xlabel('Feature')\n",
    "plt.ylabel('Coefficient')\n",
    "plt.title('Feature Importance from Logistic Regression (Top 20 Features)')\n",
    "plt.xticks(rotation=45)\n",
    "plt.show()    "
   ]
  },
  {
   "cell_type": "markdown",
   "source": [],
   "metadata": {
    "collapsed": false
   },
   "id": "30f8d5babba9b21f"
  },
  {
   "cell_type": "code",
   "execution_count": 144,
   "outputs": [
    {
     "name": "stdout",
     "output_type": "stream",
     "text": [
      "Current N of features: 161\n"
     ]
    }
   ],
   "source": [
    "print(\"Current N of features:\", len(training.columns))"
   ],
   "metadata": {
    "collapsed": false,
    "ExecuteTime": {
     "end_time": "2023-08-20T04:10:35.319060Z",
     "start_time": "2023-08-20T04:10:35.298776Z"
    }
   },
   "id": "a2e9f64324574495"
  },
  {
   "cell_type": "code",
   "execution_count": 145,
   "outputs": [
    {
     "name": "stdout",
     "output_type": "stream",
     "text": [
      "[ 0.00000000e+00 -2.25238979e-09 -0.00000000e+00 -0.00000000e+00\n",
      "  0.00000000e+00 -1.49699622e-08 -2.66678058e-07  5.66689290e-08\n",
      "  4.49185983e-08 -0.00000000e+00  0.00000000e+00  0.00000000e+00\n",
      "  0.00000000e+00  0.00000000e+00  0.00000000e+00  0.00000000e+00\n",
      "  5.43060967e-08 -1.15894898e-08  9.44960142e-09  4.43495205e-05\n",
      "  0.00000000e+00  0.00000000e+00  0.00000000e+00  0.00000000e+00\n",
      "  0.00000000e+00  0.00000000e+00 -2.52423833e-07  3.06767367e-08\n",
      "  3.39604873e-07  0.00000000e+00  0.00000000e+00  2.16922748e-08\n",
      "  1.43543197e-08  2.40501817e-09  5.34053329e-08  3.87928076e-08\n",
      "  0.00000000e+00  0.00000000e+00  0.00000000e+00  0.00000000e+00\n",
      "  1.81141185e-08  0.00000000e+00  0.00000000e+00  0.00000000e+00\n",
      "  0.00000000e+00  0.00000000e+00  0.00000000e+00 -0.00000000e+00\n",
      "  1.00530779e-08 -1.00251403e-07  2.19742845e-09  0.00000000e+00\n",
      "  0.00000000e+00  0.00000000e+00  0.00000000e+00  0.00000000e+00\n",
      "  0.00000000e+00  0.00000000e+00  0.00000000e+00  3.07889484e-05\n",
      " -1.67046317e-06  0.00000000e+00  0.00000000e+00  0.00000000e+00\n",
      "  0.00000000e+00  0.00000000e+00  0.00000000e+00  0.00000000e+00\n",
      "  0.00000000e+00  0.00000000e+00  0.00000000e+00  0.00000000e+00\n",
      "  0.00000000e+00  0.00000000e+00  0.00000000e+00  0.00000000e+00\n",
      "  0.00000000e+00  0.00000000e+00  1.12130754e-04  0.00000000e+00\n",
      "  0.00000000e+00  0.00000000e+00  0.00000000e+00 -1.29502758e-12\n",
      "  0.00000000e+00 -0.00000000e+00  0.00000000e+00  1.32526226e-08\n",
      "  0.00000000e+00  2.27686416e-06  0.00000000e+00  1.37289539e-07\n",
      " -1.49823812e-08 -0.00000000e+00  0.00000000e+00  0.00000000e+00\n",
      "  0.00000000e+00  0.00000000e+00  0.00000000e+00  0.00000000e+00\n",
      "  8.15714469e-06  0.00000000e+00  0.00000000e+00  0.00000000e+00\n",
      "  0.00000000e+00  0.00000000e+00  0.00000000e+00  0.00000000e+00\n",
      "  0.00000000e+00  0.00000000e+00  0.00000000e+00  0.00000000e+00\n",
      " -0.00000000e+00 -4.28434628e-09 -0.00000000e+00  0.00000000e+00\n",
      "  0.00000000e+00  0.00000000e+00  4.87427836e-07  0.00000000e+00\n",
      " -0.00000000e+00 -0.00000000e+00  0.00000000e+00  0.00000000e+00\n",
      "  0.00000000e+00  3.45520410e-08  3.95773320e-08 -2.63334222e-09\n",
      "  1.27300302e-08 -2.08815598e-08 -9.42495044e-09 -6.52401342e-10\n",
      " -6.72512355e-09  0.00000000e+00  0.00000000e+00  0.00000000e+00\n",
      " -3.08763635e-11  5.19936636e-09  0.00000000e+00  0.00000000e+00\n",
      "  0.00000000e+00  0.00000000e+00 -4.88572950e-06 -1.49722831e-06\n",
      "  0.00000000e+00 -0.00000000e+00  0.00000000e+00  0.00000000e+00\n",
      "  0.00000000e+00  0.00000000e+00  0.00000000e+00  0.00000000e+00\n",
      "  0.00000000e+00  0.00000000e+00  0.00000000e+00  0.00000000e+00\n",
      " -0.00000000e+00  0.00000000e+00  0.00000000e+00  0.00000000e+00\n",
      " -0.00000000e+00]\n"
     ]
    },
    {
     "data": {
      "text/plain": "<Figure size 1200x800 with 1 Axes>",
      "image/png": "[encoded data removed]"
     },
     "metadata": {},
     "output_type": "display_data"
    }
   ],
   "source": [
    "from sklearn.linear_model import Lasso\n",
    "#Same using Lasso\n",
    "x_lass = x_log\n",
    "# Train a Lasso regression model\n",
    "model = Lasso(alpha=0.5, max_iter=10000)\n",
    "model.fit(x_lass, y_training)\n",
    "\n",
    "# Get feature names and coefficients\n",
    "feature_names = training.columns\n",
    "coefficients = model.coef_\n",
    "print(coefficients)\n",
    "# Create a dataframe for features and their corresponding coefficients\n",
    "coeff_df = pd.DataFrame({'Feature': feature_names, 'Coefficient': coefficients})\n",
    "\n",
    "# Filter out features with zero coefficients\n",
    "non_zero_coeff = coeff_df[coeff_df['Coefficient'] != 0]\n",
    "\n",
    "# Sort dataframe by absolute coefficient values in descending order\n",
    "non_zero_coeff = non_zero_coeff.reindex(non_zero_coeff.Coefficient.abs().sort_values(ascending=False).index)\n",
    "\n",
    "# Get the first 10 features\n",
    "top_features = non_zero_coeff.iloc[:20]\n",
    "\n",
    "# Visualize the coefficients of the first10 features\n",
    "plt.figure(figsize=(12, 8))\n",
    "plt.bar(top_features['Feature'], top_features['Coefficient'])\n",
    "plt.xlabel('Feature')\n",
    "plt.ylabel('Coefficient')\n",
    "plt.title('Feature Importance from Lasso Regression (Top 20 Features)')\n",
    "plt.xticks(rotation=45)\n",
    "plt.show()\n"
   ],
   "metadata": {
    "collapsed": false,
    "ExecuteTime": {
     "end_time": "2023-08-20T04:10:38.468369Z",
     "start_time": "2023-08-20T04:10:35.315707Z"
    }
   },
   "id": "f0a5e4092eea1926"
  },
  {
   "cell_type": "raw",
   "source": [
    "Lasso Regression: the feature importance is determined based on the absolute values of the coefficients. L1 regularization tends to shrink the coefficients of less important features to zero, performing feature selection.\n",
    "Logistic Regression: Feature importance is typically determined based on the absolute values of the coefficients. Regularization can shrink the coefficients, but without L1 regularization, it will not set them to zero."
   ],
   "metadata": {
    "collapsed": false
   },
   "id": "4222eae440b04da8"
  },
  {
   "cell_type": "markdown",
   "source": [
    "\n",
    "# 4. Create three supervised machine learning (ML) models except any ensemble approach for predicting “class''.\n",
    "a. Report performance score using a suitable metric. Is it possible that the presented result is an overfitted one? Justify.\n",
    "b. Justify different design decisions for each ML model used to answer this question.\n",
    "c. Have you optimised any hyper-parameters for each ML model? What are they? Why have you done that? Explain.\n",
    "d. Finally, make a recommendation based on the reported results and justify it."
   ],
   "metadata": {
    "collapsed": false
   },
   "id": "d5998d17dc8f2480"
  },
  {
   "cell_type": "code",
   "execution_count": 149,
   "outputs": [
    {
     "name": "stderr",
     "output_type": "stream",
     "text": [
      "/Users/marsson/anaconda3/envs/m1/lib/python3.10/site-packages/sklearn/base.py:432: UserWarning: X has feature names, but SelectFromModel was fitted without feature names\n",
      "  warnings.warn(\n",
      "/Users/marsson/anaconda3/envs/m1/lib/python3.10/site-packages/sklearn/base.py:432: UserWarning: X has feature names, but SelectFromModel was fitted without feature names\n",
      "  warnings.warn(\n",
      "/Users/marsson/anaconda3/envs/m1/lib/python3.10/site-packages/sklearn/base.py:432: UserWarning: X has feature names, but SelectFromModel was fitted without feature names\n",
      "  warnings.warn(\n"
     ]
    },
    {
     "name": "stdout",
     "output_type": "stream",
     "text": [
      "Transformed test data: (16000, 18)\n",
      "Selected features: Index(['ac_000', 'ag_000', 'ag_002', 'aj_000', 'ak_000', 'au_000', 'az_008', 'az_009', 'ba_009', 'cf_000', 'cl_000', 'cn_000', 'co_000', 'cs_009', 'cy_000', 'dl_000', 'dx_000', 'dy_000'], dtype='object')\n",
      "Transformed training data: (60000, 18)\n",
      " Accuracy: 0.97\n",
      "Mean Absolute Error (MAE): 0.03\n",
      "Mean Squared Error (MSE): 0.03\n",
      "R-squared (R2): -0.36\n"
     ]
    }
   ],
   "source": [
    "#will reuse the already fitted lasso and linear regressions.\n",
    "from sklearn.feature_selection import SelectFromModel\n",
    "from sklearn.metrics import mean_absolute_error, mean_squared_error, r2_score, accuracy_score\n",
    "\n",
    "selector_lin = SelectFromModel(logist)\n",
    "selector.fit(x_log,y_training)\n",
    "status = selector_lin.get_support()\n",
    "# Use SelectFromModel with the logistic regression model\n",
    "\n",
    "# Transform the training data\n",
    "X_lin_selected = selector_lin.transform(training)\n",
    "X_test_selected = selector_lin.transform(test)\n",
    "\n",
    "print(\"Transformed test data:\", X_test_selected.shape)\n",
    "print(\"Selected features:\", training.columns[selector_lin.get_support()])\n",
    "print(\"Transformed training data:\", X_lin_selected.shape)\n",
    "\n",
    "X_lin_Test = selector_lin.transform(test)\n",
    "regressor_selected = LogisticRegression()\n",
    "regressor_selected.fit(X_lin_selected, y_training)\n",
    "y_pred = regressor_selected.predict(X_test_selected)\n",
    "\n",
    "# Calculate metrics\n",
    "mae = mean_absolute_error(y_test, y_pred)\n",
    "mse = mean_squared_error(y_test, y_pred)\n",
    "r2 = r2_score(y_test, y_pred)\n",
    "accuracy = accuracy_score(y_test, y_pred)\n",
    "\n",
    "# Print metrics to the screen\n",
    "print(f\" Accuracy: {accuracy:.2f}\")\n",
    "print(f\"Mean Absolute Error (MAE): {mae:.2f}\")\n",
    "print(f\"Mean Squared Error (MSE): {mse:.2f}\")\n",
    "print(f\"R-squared (R2): {r2:.2f}\")\n",
    "\n"
   ],
   "metadata": {
    "collapsed": false,
    "ExecuteTime": {
     "end_time": "2023-08-20T04:47:47.945256Z",
     "start_time": "2023-08-20T04:47:47.311281Z"
    }
   },
   "id": "56db1aa82ee49184"
  },
  {
   "cell_type": "code",
   "execution_count": 154,
   "outputs": [
    {
     "name": "stdout",
     "output_type": "stream",
     "text": [
      "Transformed test data: (16000, 3)\n",
      "Selected features: Index(['al_000', 'ba_008', 'bz_000'], dtype='object')\n",
      "Transformed training data: (60000, 3)\n",
      "Mean Absolute Error (MAE): 0.03\n",
      "Mean Squared Error (MSE): 0.02\n",
      "R-squared (R2): 0.23\n"
     ]
    },
    {
     "name": "stderr",
     "output_type": "stream",
     "text": [
      "/Users/marsson/anaconda3/envs/m1/lib/python3.10/site-packages/sklearn/base.py:432: UserWarning: X has feature names, but SelectFromModel was fitted without feature names\n",
      "  warnings.warn(\n",
      "/Users/marsson/anaconda3/envs/m1/lib/python3.10/site-packages/sklearn/base.py:432: UserWarning: X has feature names, but SelectFromModel was fitted without feature names\n",
      "  warnings.warn(\n",
      "/Users/marsson/anaconda3/envs/m1/lib/python3.10/site-packages/sklearn/base.py:432: UserWarning: X has feature names, but SelectFromModel was fitted without feature names\n",
      "  warnings.warn(\n"
     ]
    }
   ],
   "source": [
    "selector_lass = SelectFromModel(model)\n",
    "selector_lass.fit(x_lass,y_training)\n",
    "status_lass = selector_lass.get_support()\n",
    "# Use SelectFromModel with the lasso regression model\n",
    "\n",
    "# Transform the training data\n",
    "X_lass_selected = selector_lass.transform(training)\n",
    "X_test_lass_selected = selector_lass.transform(test)\n",
    "\n",
    "print(\"Transformed test data:\", X_test_lass_selected.shape)\n",
    "print(\"Selected features:\", training.columns[selector_lass.get_support()])\n",
    "print(\"Transformed training data:\", X_lass_selected.shape)\n",
    "\n",
    "\n",
    "X_lass_Test = selector_lass.transform(test)\n",
    "regressor_lass_selected = Lasso(alpha=0.5)\n",
    "regressor_lass_selected.fit(X_lass_selected, y_training)\n",
    "y_lass_pred = regressor_lass_selected.predict(X_test_lass_selected)\n",
    "\n",
    "# Calculate metrics\n",
    "mae_lass = mean_absolute_error(y_test, y_lass_pred)\n",
    "mse_lass = mean_squared_error(y_test, y_lass_pred)\n",
    "r2_lass = r2_score(y_test, y_lass_pred)\n",
    "#accuracy_lass = accuracy_score(y_test, y_lass_pred)\n",
    "\n",
    "# Print metrics to the screen\n",
    "#print(f\" Accuracy: {accuracy_lass:.2f}\")\n",
    "print(f\"Mean Absolute Error (MAE): {mae_lass:.2f}\")\n",
    "print(f\"Mean Squared Error (MSE): {mse_lass:.2f}\")\n",
    "print(f\"R-squared (R2): {r2_lass:.2f}\")"
   ],
   "metadata": {
    "collapsed": false,
    "ExecuteTime": {
     "end_time": "2023-08-20T05:41:03.686048Z",
     "start_time": "2023-08-20T05:40:59.727800Z"
    }
   },
   "id": "ca4739b824581ded"
  },
  {
   "cell_type": "code",
   "execution_count": 157,
   "outputs": [
    {
     "name": "stderr",
     "output_type": "stream",
     "text": [
      "/Users/marsson/anaconda3/envs/m1/lib/python3.10/site-packages/sklearn/base.py:432: UserWarning: X has feature names, but SelectFromModel was fitted without feature names\n",
      "  warnings.warn(\n",
      "/Users/marsson/anaconda3/envs/m1/lib/python3.10/site-packages/sklearn/base.py:432: UserWarning: X has feature names, but SelectFromModel was fitted without feature names\n",
      "  warnings.warn(\n",
      "/Users/marsson/anaconda3/envs/m1/lib/python3.10/site-packages/sklearn/base.py:432: UserWarning: X has feature names, but SelectFromModel was fitted without feature names\n",
      "  warnings.warn(\n"
     ]
    },
    {
     "name": "stdout",
     "output_type": "stream",
     "text": [
      "Transformed test data: (16000, 11)\n",
      "Selected features: Index(['ac_000', 'ag_001', 'ag_002', 'az_008', 'cn_000', 'dg_000', 'dh_000', 'dk_000', 'dl_000', 'dq_000', 'dr_000'], dtype='object')\n",
      "Transformed training data: (60000, 11)\n",
      " Accuracy: 0.93\n",
      "Mean Absolute Error (MAE): 0.07\n",
      "Mean Squared Error (MSE): 0.07\n",
      "R-squared (R2): -2.06\n"
     ]
    }
   ],
   "source": [
    "from sklearn.linear_model import SGDClassifier\n",
    "\n",
    "sgd = SGDClassifier()\n",
    "selector_sgd = SelectFromModel(sgd)\n",
    "selector_sgd.fit(x_log,y_training)\n",
    "status_sgd = selector_sgd.get_support()\n",
    "# Use SelectFromModel with the logistic regression model\n",
    "\n",
    "# Transform the training data\n",
    "X_sgd_selected = selector_sgd.transform(training)\n",
    "X_test_sgd_selected = selector_sgd.transform(test)\n",
    "\n",
    "print(\"Transformed test data:\", X_test_sgd_selected.shape)\n",
    "print(\"Selected features:\", training.columns[selector_sgd.get_support()])\n",
    "print(\"Transformed training data:\", X_sgd_selected.shape)\n",
    "\n",
    "X_sgd_Test = selector_sgd.transform(test)\n",
    "regressor_sgd_selected = SGDClassifier()\n",
    "regressor_sgd_selected.fit(X_sgd_selected, y_training)\n",
    "y_sgd_pred = regressor_sgd_selected.predict(X_test_sgd_selected)\n",
    "\n",
    "# Calculate metrics\n",
    "mae_sgd = mean_absolute_error(y_test, y_sgd_pred)\n",
    "mse_sgd = mean_squared_error(y_test, y_sgd_pred)\n",
    "r2_sgd = r2_score(y_test, y_sgd_pred)\n",
    "accuracy_sgd = accuracy_score(y_test, y_sgd_pred)\n",
    "\n",
    "# Print metrics to the screen\n",
    "print(f\" Accuracy: {accuracy_sgd:.2f}\")\n",
    "print(f\"Mean Absolute Error (MAE): {mae_sgd:.2f}\")\n",
    "print(f\"Mean Squared Error (MSE): {mse_sgd:.2f}\")\n",
    "print(f\"R-squared (R2): {r2_sgd:.2f}\")\n"
   ],
   "metadata": {
    "collapsed": false,
    "ExecuteTime": {
     "end_time": "2023-08-20T20:30:06.825281Z",
     "start_time": "2023-08-20T20:30:05.545856Z"
    }
   },
   "id": "905d8b069634e680"
  },
  {
   "cell_type": "markdown",
   "source": [
    "a) for the SGD and the Linear regression models, the model might be overfitted. we can infer this by the negative values of the r squared metric. That indicates that either the model did not converge to the optimal solutiuon. We can try to increase the accuracy by improving the hyperparameters."
   ],
   "metadata": {
    "collapsed": false
   },
   "id": "5fdcea26abea2c16"
  },
  {
   "cell_type": "markdown",
   "source": [
    "b) *polinomial regression* is usually a good fit for nonlinear relations between independent and dependent variables. The r squared metric indicates that the model does not fit the data too well though.\n",
    "*Lasso regression* is a linear regression with L1 regularization. it is appropriate when we have many featiures and want to perform automatic feature selection. The metrics indicate that the model is fitting data relativelly well.\n",
    "*SGD regression* is suitable for large datasets. the results though indicate that it is not really performing well."
   ],
   "metadata": {
    "collapsed": false
   },
   "id": "50425273e4764996"
  },
  {
   "cell_type": "code",
   "execution_count": 158,
   "outputs": [
    {
     "name": "stdout",
     "output_type": "stream",
     "text": [
      "Best hyperparameters: {'alpha': 10.0, 'max_iter': 1000, 'tol': 0.01}\n"
     ]
    }
   ],
   "source": [
    "from sklearn.model_selection import GridSearchCV\n",
    "param_grid = {'alpha': [0.01, 0.1, 1.0, 10.0],\n",
    "              'max_iter': [1000, 2000, 3000],\n",
    "              'tol': [0.0001, 0.001, 0.01]}\n",
    "\n",
    "# Create a Lasso regression model\n",
    "lasso_opt = Lasso()\n",
    "grid_search = GridSearchCV(estimator=lasso_opt, param_grid=param_grid, scoring='neg_mean_squared_error', cv=5)\n",
    "# Fit the GridSearchCV object on the training data\n",
    "grid_search.fit(X_lass_selected, y_training)\n",
    "\n",
    "# Get the best hyperparameters\n",
    "best_params = grid_search.best_params_\n",
    "\n",
    "# Get the best estimator\n",
    "best_model = grid_search.best_estimator_\n",
    "\n",
    "print(\"Best hyperparameters:\", best_params)"
   ],
   "metadata": {
    "collapsed": false,
    "ExecuteTime": {
     "end_time": "2023-08-20T21:02:59.205928Z",
     "start_time": "2023-08-20T21:02:57.687405Z"
    }
   },
   "id": "f87e7e1481bc922c"
  },
  {
   "cell_type": "code",
   "execution_count": 160,
   "outputs": [
    {
     "name": "stdout",
     "output_type": "stream",
     "text": [
      "Transformed test data: (16000, 3)\n",
      "Selected features: Index(['al_000', 'ba_008', 'bz_000'], dtype='object')\n",
      "Transformed training data: (60000, 3)\n",
      "Mean Absolute Error (MAE): 0.03\n",
      "Mean Squared Error (MSE): 0.02\n",
      "R-squared (R2): 0.23\n"
     ]
    },
    {
     "name": "stderr",
     "output_type": "stream",
     "text": [
      "/Users/marsson/anaconda3/envs/m1/lib/python3.10/site-packages/sklearn/base.py:432: UserWarning: X has feature names, but SelectFromModel was fitted without feature names\n",
      "  warnings.warn(\n",
      "/Users/marsson/anaconda3/envs/m1/lib/python3.10/site-packages/sklearn/base.py:432: UserWarning: X has feature names, but SelectFromModel was fitted without feature names\n",
      "  warnings.warn(\n",
      "/Users/marsson/anaconda3/envs/m1/lib/python3.10/site-packages/sklearn/base.py:432: UserWarning: X has feature names, but SelectFromModel was fitted without feature names\n",
      "  warnings.warn(\n"
     ]
    }
   ],
   "source": [
    "selector_lass = SelectFromModel(model)\n",
    "selector_lass.fit(x_lass,y_training)\n",
    "status_lass = selector_lass.get_support()\n",
    "# Use SelectFromModel with the lasso regression model\n",
    "# Show the proportion of each value in the 'Precip Type' column for the original dataframe\n",
    "print(\"Original dataframe:\")\n",
    "print(df['Precip Type'].value_counts(normalize=True))\n",
    "\n",
    "# Shw the proportion of each value in the 'Precip Type' column for the training set\n",
    "print(\"Training set:\")\n",
    "print(y_train.value_counts(normalize=True))\n",
    "\n",
    "# Show the proportion of each value in the 'Precip Type' column for the test set\n",
    "print(\"Test set:\")\n",
    "print(y_test.value_counts(normalize=True))\n",
    "# Transform the training data\n",
    "X_lass_selected = selector_lass.transform(training)\n",
    "X_test_lass_selected = selector_lass.transform(test)\n",
    "\n",
    "print(\"Transformed test data:\", X_test_lass_selected.shape)\n",
    "print(\"Selected features:\", training.columns[selector_lass.get_support()])\n",
    "print(\"Transformed training data:\", X_lass_selected.shape)\n",
    "\n",
    "\n",
    "X_lass_Test2 = selector_lass.transform(test)\n",
    "regressor_lass_selected2 = Lasso(alpha=10, max_iter=1000, tol=0.01)\n",
    "regressor_lass_selected2.fit(X_lass_selected, y_training)\n",
    "y_lass_pred2 = regressor_lass_selected.predict(X_test_lass_selected)\n",
    "\n",
    "# Calculate metrics\n",
    "mae_lass2 = mean_absolute_error(y_test, y_lass_pred2)\n",
    "mse_lass2 = mean_squared_error(y_test, y_lass_pred2)\n",
    "r2_lass2 = r2_score(y_test, y_lass_pred2)\n",
    "#accuracy_lass = accuracy_score(y_test, y_lass_pred)\n",
    "\n",
    "# Print metrics to the screen\n",
    "#print(f\" Accuracy: {accuracy_lass:.2f}\")\n",
    "print(f\"Mean Absolute Error (MAE): {mae_lass2:.2f}\")\n",
    "print(f\"Mean Squared Error (MSE): {mse_lass2:.2f}\")\n",
    "print(f\"R-squared (R2): {r2_lass2:.2f}\")"
   ],
   "metadata": {
    "collapsed": false,
    "ExecuteTime": {
     "end_time": "2023-08-20T21:06:20.133552Z",
     "start_time": "2023-08-20T21:06:17.408111Z"
    }
   },
   "id": "aceb0e6e87803a7e"
  },
  {
   "cell_type": "raw",
   "source": [
    "c) using grid search to find the best hyperparameters for the LASSO regression, but has seen no apparent improvement on the results with 2 decimal places. Whe used the grid search to find the optimal values of the hyperparameters, and applied them. max_iter is the number of iterations that will be preformed, tol is the tolerance for optiomization and alpha contyrols the amount of regularization applied to the model. \n",
    "\n",
    "d) basen on our resulte, I would recommend to use LASSO regression model for this problem, it had the best results in our testing with a mean absolute error of 0.03, mean squared error of 0.02 and 0.23 R squared."
   ],
   "metadata": {
    "collapsed": false
   },
   "id": "a2e41a11044a0030"
  },
  {
   "cell_type": "markdown",
   "source": [
    "# 5. Build three ensemble models including voting classifier for predicting “class”."
   ],
   "metadata": {
    "collapsed": false
   },
   "id": "22989fae4bd04051"
  },
  {
   "cell_type": "code",
   "execution_count": 161,
   "outputs": [
    {
     "name": "stderr",
     "output_type": "stream",
     "text": [
      "/Users/marsson/anaconda3/envs/m1/lib/python3.10/site-packages/sklearn/ensemble/_base.py:166: FutureWarning: `base_estimator` was renamed to `estimator` in version 1.2 and will be removed in 1.4.\n",
      "  warnings.warn(\n",
      "/Users/marsson/anaconda3/envs/m1/lib/python3.10/site-packages/sklearn/base.py:432: UserWarning: X has feature names, but BaggingClassifier was fitted without feature names\n",
      "  warnings.warn(\n"
     ]
    },
    {
     "name": "stdout",
     "output_type": "stream",
     "text": [
      "Bagging Classifier Accuracy: 0.79\n"
     ]
    },
    {
     "name": "stderr",
     "output_type": "stream",
     "text": [
      "/Users/marsson/anaconda3/envs/m1/lib/python3.10/site-packages/sklearn/base.py:432: UserWarning: X has feature names, but RandomForestClassifier was fitted without feature names\n",
      "  warnings.warn(\n"
     ]
    },
    {
     "name": "stdout",
     "output_type": "stream",
     "text": [
      "Random Forest Classifier Accuracy: 0.63\n"
     ]
    },
    {
     "name": "stderr",
     "output_type": "stream",
     "text": [
      "/Users/marsson/anaconda3/envs/m1/lib/python3.10/site-packages/sklearn/linear_model/_logistic.py:458: ConvergenceWarning: lbfgs failed to converge (status=1):\n",
      "STOP: TOTAL NO. of ITERATIONS REACHED LIMIT.\n",
      "\n",
      "Increase the number of iterations (max_iter) or scale the data as shown in:\n",
      "    https://scikit-learn.org/stable/modules/preprocessing.html\n",
      "Please also refer to the documentation for alternative solver options:\n",
      "    https://scikit-learn.org/stable/modules/linear_model.html#logistic-regression\n",
      "  n_iter_i = _check_optimize_result(\n",
      "/Users/marsson/anaconda3/envs/m1/lib/python3.10/site-packages/sklearn/base.py:432: UserWarning: X has feature names, but LogisticRegression was fitted without feature names\n",
      "  warnings.warn(\n",
      "/Users/marsson/anaconda3/envs/m1/lib/python3.10/site-packages/sklearn/base.py:432: UserWarning: X has feature names, but SVC was fitted without feature names\n",
      "  warnings.warn(\n"
     ]
    },
    {
     "name": "stdout",
     "output_type": "stream",
     "text": [
      "Voting Classifier Accuracy: 0.97\n"
     ]
    },
    {
     "name": "stderr",
     "output_type": "stream",
     "text": [
      "/Users/marsson/anaconda3/envs/m1/lib/python3.10/site-packages/sklearn/base.py:432: UserWarning: X has feature names, but DecisionTreeClassifier was fitted without feature names\n",
      "  warnings.warn(\n"
     ]
    }
   ],
   "source": [
    "from sklearn.ensemble import BaggingClassifier, RandomForestClassifier, VotingClassifier\n",
    "from sklearn.tree import DecisionTreeClassifier\n",
    "from sklearn.svm import SVC\n",
    "\n",
    "X_train = x_log\n",
    "y_train = y_training\n",
    "X_test = test\n",
    "bagging_clf = BaggingClassifier(base_estimator=DecisionTreeClassifier(),\n",
    "                                n_estimators=50,\n",
    "                                random_state=13)\n",
    "bagging_clf.fit(X_train, y_train)\n",
    "bagging_acc = bagging_clf.score(X_test, y_test)\n",
    "print(f'Bagging Classifier Accuracy: {bagging_acc:.2f}')\n",
    "\n",
    "# 2. Random Forest Classifier\n",
    "rf_clf = RandomForestClassifier(n_estimators=50, random_state=13)\n",
    "rf_clf.fit(X_train, y_train)\n",
    "rf_acc = rf_clf.score(X_test, y_test)\n",
    "print(f'Random Forest Classifier Accuracy: {rf_acc:.2f}')\n",
    "\n",
    "# 3. Voting Classifier\n",
    "log_clf = LogisticRegression(random_state=13)\n",
    "svc_clf = SVC(probability=True, random_state=13)\n",
    "dt_clf = DecisionTreeClassifier(random_state=13)\n",
    "\n",
    "voting_clf = VotingClassifier(estimators=[('lr', log_clf), ('svc', svc_clf), ('dt', dt_clf)],\n",
    "                              voting='soft')\n",
    "voting_clf.fit(X_train, y_train)\n",
    "voting_acc = voting_clf.score(X_test, y_test)\n",
    "print(f'Voting Classifier Accuracy: {voting_acc:.2f}')"
   ],
   "metadata": {
    "collapsed": false,
    "ExecuteTime": {
     "end_time": "2023-08-20T22:10:38.216468Z",
     "start_time": "2023-08-20T21:59:19.257412Z"
    }
   },
   "id": "d59b5893d09e05e7"
  },
  {
   "cell_type": "markdown",
   "source": [
    "a) When do you want to use ensemble models over other ML models? Explain based on the\n",
    "models that you have used in Q4 and Q5.\n",
    "Ensemble models are used when:\n",
    "- You want to reduce overfitting by combining multiple models.\n",
    "- You want to improve performance by leveraging the strengths of different models.\n",
    "- You're dealing with complex problems that are hard for a single model to solve.\n",
    "In the examples from Q5, we used ensemble models like Bagging, Random Forest, and Voting Classifier to combine predictions from multiple models to improve accuracy and robustness. These ensembles are especially useful when individual models have different strengths and weaknesses."
   ],
   "metadata": {
    "collapsed": false
   },
   "id": "ed309fadedee17c3"
  },
  {
   "cell_type": "markdown",
   "source": [
    "b. What are the similarities or differences between among used ensemble models in Q5?\n",
    "All the ensemble methods mentioned in Q5 (Bagging, Random Forest, and Voting Classifier) involve combining the predictions of multiple models to produce a single prediction\n",
    "Bagging and Random Forest use the same type of base models (typically decision trees), while a Voting Classifier can combine different types of classifiers, such as Logistic Regression, SVM, and Decision Trees."
   ],
   "metadata": {
    "collapsed": false
   },
   "id": "ec58fae7a13533c0"
  },
  {
   "cell_type": "markdown",
   "source": [
    "c. Is there any preferable scenario for using any specific model among the set of ensemble\n",
    "models? Explain based on obtained outcomes.\n",
    "*Bagging Classifier:* Use when a single model tends to overfit. Good for reducing variance.\n",
    "*Random Forest Classifier:* Use for a balance of bias and variance reduction. Especially useful with many features.\n",
    "*Voting Classifier:* Use when you have different models with complementary strengths. Combines their predictions for better performance.\n",
    "in our case, the voting classifier was more precise with 97% accuracy."
   ],
   "metadata": {
    "collapsed": false
   },
   "id": "dd5ead2a9c7f88b5"
  },
  {
   "cell_type": "markdown",
   "source": [
    "d. Write a report comparing performances of models built in question 4 and 5. Report the best\n",
    "method based on model complexity and performance. (attached)"
   ],
   "metadata": {
    "collapsed": false
   },
   "id": "1bd91317cec16583"
  },
  {
   "cell_type": "raw",
   "source": [
    "e.Is it possible to build ensemble model using ML classifiers other than decision tree? If yes,\n",
    "then explain with an example.\n",
    "Yes. We have used the Bagging Classifier, that uses the bagging method to reduce variance and improvbe performance."
   ],
   "metadata": {
    "collapsed": false
   },
   "id": "55062996ddbd9288"
  },
  {
   "cell_type": "code",
   "execution_count": null,
   "outputs": [],
   "source": [],
   "metadata": {
    "collapsed": false
   },
   "id": "96fadf3ab82291f0"
  }
 ],
 "metadata": {
  "kernelspec": {
   "display_name": "Python 3 (ipykernel)",
   "language": "python",
   "name": "python3"
  },
  "language_info": {
   "codemirror_mode": {
    "name": "ipython",
    "version": 3
   },
   "file_extension": ".py",
   "mimetype": "text/x-python",
   "name": "python",
   "nbconvert_exporter": "python",
   "pygments_lexer": "ipython3",
   "version": "3.10.12"
  }
 },
 "nbformat": 4,
 "nbformat_minor": 5
}
