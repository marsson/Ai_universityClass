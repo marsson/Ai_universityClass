{
 "cells": [
  {
   "cell_type": "markdown",
   "source": [
    " # 1) Create a MLP model with 10 hidden layers using  \"data.csv\" dataset and report performances using appropriate metrics."
   ],
   "metadata": {
    "collapsed": false
   }
  },
  {
   "cell_type": "code",
   "execution_count": 13,
   "outputs": [
    {
     "name": "stdout",
     "output_type": "stream",
     "text": [
      "<class 'pandas.core.frame.DataFrame'>\n",
      "RangeIndex: 43876 entries, 0 to 43875\n",
      "Columns: 101 entries, t_0 to malware\n",
      "dtypes: int64(101)\n",
      "memory usage: 33.8 MB\n"
     ]
    },
    {
     "data": {
      "text/plain": "False"
     },
     "execution_count": 13,
     "metadata": {},
     "output_type": "execute_result"
    }
   ],
   "source": [
    "import pandas as pd\n",
    "dataset = pd.read_csv(\"data_10.csv\")\n",
    "dataset.info()\n",
    "dataset.isnull().values.any()"
   ],
   "metadata": {
    "collapsed": false,
    "ExecuteTime": {
     "start_time": "2023-09-19T17:05:41.784129Z",
     "end_time": "2023-09-19T17:05:42.163784Z"
    }
   }
  },
  {
   "cell_type": "code",
   "execution_count": 14,
   "outputs": [
    {
     "data": {
      "text/plain": "0    1\n1    1\n2    1\n3    1\n4    1\nName: malware, dtype: int64"
     },
     "execution_count": 14,
     "metadata": {},
     "output_type": "execute_result"
    }
   ],
   "source": [
    "target_dataframe = dataset.pop('malware')\n",
    "target_dataframe.head()"
   ],
   "metadata": {
    "collapsed": false,
    "ExecuteTime": {
     "start_time": "2023-09-19T17:05:42.643282Z",
     "end_time": "2023-09-19T17:05:42.647832Z"
    }
   }
  },
  {
   "cell_type": "code",
   "execution_count": 25,
   "outputs": [
    {
     "data": {
      "text/plain": "        t_0       t_1       t_2       t_3       t_4       t_5       t_6  \\\n0 -0.407815  1.040624  0.205229  0.381018  1.214753 -0.246378  0.806037   \n1 -0.804648 -0.057878  0.813612  0.278256 -0.217917 -0.870304  0.030828   \n2 -1.677680 -1.688988  1.925485 -1.057655  0.737197 -0.870304  1.256741   \n3 -0.804648 -0.057878  0.813612  0.278256 -0.217917 -0.870304  0.030828   \n4 -0.804648  0.474729 -0.654899  0.748027 -0.990435  1.001474 -0.960719   \n\n        t_7       t_8       t_9  ...      t_90      t_91      t_92      t_93  \\\n0  1.510980 -0.998545  0.760494  ... -0.521894 -1.065181  1.496827 -0.336061   \n1 -1.253474  0.439525 -0.942339  ... -1.237039 -0.937536  0.807549 -0.578494   \n2 -1.253474  1.458157 -0.942339  ... -0.446616 -1.141769 -0.740302 -0.497683   \n3 -1.253474  0.439525 -0.942339  ...  0.707653  0.683564  1.557290  0.647142   \n4  0.625133 -0.384369  0.086846  ... -1.487966  0.696328  1.049401 -1.615571   \n\n       t_94      t_95      t_96      t_97      t_98      t_99  \n0  0.090902  0.585610 -1.470810  0.634203 -1.396636 -1.072355  \n1 -1.332798  1.746557 -0.217968  0.160702  0.723982 -1.527663  \n2 -1.418220 -0.872652 -0.368309 -1.195815 -0.636415 -0.553809  \n3  1.955950  0.189190  0.696607  1.837152  0.897365  1.849207  \n4  0.631908  1.222715 -0.142797  1.299664 -0.262973  1.318014  \n\n[5 rows x 100 columns]",
      "text/html": "<div>\n<style scoped>\n    .dataframe tbody tr th:only-of-type {\n        vertical-align: middle;\n    }\n\n    .dataframe tbody tr th {\n        vertical-align: top;\n    }\n\n    .dataframe thead th {\n        text-align: right;\n    }\n</style>\n<table border=\"1\" class=\"dataframe\">\n  <thead>\n    <tr style=\"text-align: right;\">\n      <th></th>\n      <th>t_0</th>\n      <th>t_1</th>\n      <th>t_2</th>\n      <th>t_3</th>\n      <th>t_4</th>\n      <th>t_5</th>\n      <th>t_6</th>\n      <th>t_7</th>\n      <th>t_8</th>\n      <th>t_9</th>\n      <th>...</th>\n      <th>t_90</th>\n      <th>t_91</th>\n      <th>t_92</th>\n      <th>t_93</th>\n      <th>t_94</th>\n      <th>t_95</th>\n      <th>t_96</th>\n      <th>t_97</th>\n      <th>t_98</th>\n      <th>t_99</th>\n    </tr>\n  </thead>\n  <tbody>\n    <tr>\n      <th>0</th>\n      <td>-0.407815</td>\n      <td>1.040624</td>\n      <td>0.205229</td>\n      <td>0.381018</td>\n      <td>1.214753</td>\n      <td>-0.246378</td>\n      <td>0.806037</td>\n      <td>1.510980</td>\n      <td>-0.998545</td>\n      <td>0.760494</td>\n      <td>...</td>\n      <td>-0.521894</td>\n      <td>-1.065181</td>\n      <td>1.496827</td>\n      <td>-0.336061</td>\n      <td>0.090902</td>\n      <td>0.585610</td>\n      <td>-1.470810</td>\n      <td>0.634203</td>\n      <td>-1.396636</td>\n      <td>-1.072355</td>\n    </tr>\n    <tr>\n      <th>1</th>\n      <td>-0.804648</td>\n      <td>-0.057878</td>\n      <td>0.813612</td>\n      <td>0.278256</td>\n      <td>-0.217917</td>\n      <td>-0.870304</td>\n      <td>0.030828</td>\n      <td>-1.253474</td>\n      <td>0.439525</td>\n      <td>-0.942339</td>\n      <td>...</td>\n      <td>-1.237039</td>\n      <td>-0.937536</td>\n      <td>0.807549</td>\n      <td>-0.578494</td>\n      <td>-1.332798</td>\n      <td>1.746557</td>\n      <td>-0.217968</td>\n      <td>0.160702</td>\n      <td>0.723982</td>\n      <td>-1.527663</td>\n    </tr>\n    <tr>\n      <th>2</th>\n      <td>-1.677680</td>\n      <td>-1.688988</td>\n      <td>1.925485</td>\n      <td>-1.057655</td>\n      <td>0.737197</td>\n      <td>-0.870304</td>\n      <td>1.256741</td>\n      <td>-1.253474</td>\n      <td>1.458157</td>\n      <td>-0.942339</td>\n      <td>...</td>\n      <td>-0.446616</td>\n      <td>-1.141769</td>\n      <td>-0.740302</td>\n      <td>-0.497683</td>\n      <td>-1.418220</td>\n      <td>-0.872652</td>\n      <td>-0.368309</td>\n      <td>-1.195815</td>\n      <td>-0.636415</td>\n      <td>-0.553809</td>\n    </tr>\n    <tr>\n      <th>3</th>\n      <td>-0.804648</td>\n      <td>-0.057878</td>\n      <td>0.813612</td>\n      <td>0.278256</td>\n      <td>-0.217917</td>\n      <td>-0.870304</td>\n      <td>0.030828</td>\n      <td>-1.253474</td>\n      <td>0.439525</td>\n      <td>-0.942339</td>\n      <td>...</td>\n      <td>0.707653</td>\n      <td>0.683564</td>\n      <td>1.557290</td>\n      <td>0.647142</td>\n      <td>1.955950</td>\n      <td>0.189190</td>\n      <td>0.696607</td>\n      <td>1.837152</td>\n      <td>0.897365</td>\n      <td>1.849207</td>\n    </tr>\n    <tr>\n      <th>4</th>\n      <td>-0.804648</td>\n      <td>0.474729</td>\n      <td>-0.654899</td>\n      <td>0.748027</td>\n      <td>-0.990435</td>\n      <td>1.001474</td>\n      <td>-0.960719</td>\n      <td>0.625133</td>\n      <td>-0.384369</td>\n      <td>0.086846</td>\n      <td>...</td>\n      <td>-1.487966</td>\n      <td>0.696328</td>\n      <td>1.049401</td>\n      <td>-1.615571</td>\n      <td>0.631908</td>\n      <td>1.222715</td>\n      <td>-0.142797</td>\n      <td>1.299664</td>\n      <td>-0.262973</td>\n      <td>1.318014</td>\n    </tr>\n  </tbody>\n</table>\n<p>5 rows × 100 columns</p>\n</div>"
     },
     "execution_count": 25,
     "metadata": {},
     "output_type": "execute_result"
    }
   ],
   "source": [
    "dataset.dtypes"
   ],
   "metadata": {
    "collapsed": false,
    "ExecuteTime": {
     "start_time": "2023-09-19T17:32:22.288300Z",
     "end_time": "2023-09-19T17:32:23.244450Z"
    }
   }
  },
  {
   "cell_type": "code",
   "execution_count": 26,
   "outputs": [],
   "source": [
    "import tensorflow as tf\n",
    "tf.convert_to_tensor(dataset)"
   ],
   "metadata": {
    "collapsed": false,
    "ExecuteTime": {
     "start_time": "2023-09-19T17:32:51.039967Z",
     "end_time": "2023-09-19T17:32:51.056900Z"
    }
   }
  },
  {
   "cell_type": "code",
   "execution_count": 27,
   "outputs": [],
   "source": [],
   "metadata": {
    "collapsed": false,
    "ExecuteTime": {
     "start_time": "2023-09-19T17:33:49.932393Z",
     "end_time": "2023-09-19T17:33:49.944531Z"
    }
   }
  }
 ],
 "metadata": {
  "kernelspec": {
   "name": "amd_gpu",
   "language": "python",
   "display_name": "amd_gpu"
  },
  "language_info": {
   "codemirror_mode": {
    "name": "ipython",
    "version": 2
   },
   "file_extension": ".py",
   "mimetype": "text/x-python",
   "name": "python",
   "nbconvert_exporter": "python",
   "pygments_lexer": "ipython2",
   "version": "2.7.6"
  }
 },
 "nbformat": 4,
 "nbformat_minor": 0
}
