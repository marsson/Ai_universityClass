{
 "cells": [
  {
   "cell_type": "markdown",
   "metadata": {},
   "source": [
    "# 1)  Load  \"data.csv\" dataset and create an ensemble ML model for predicting target variable (Result). Report the performance of the model using appropriate metrics."
   ]
  },
  {
   "cell_type": "code",
   "execution_count": 4,
   "metadata": {
    "ExecuteTime": {
     "end_time": "2023-09-19T08:58:56.521822Z",
     "start_time": "2023-09-19T08:58:56.508442Z"
    }
   },
   "outputs": [
    {
     "name": "stdout",
     "output_type": "stream",
     "text": [
      "<class 'pandas.core.frame.DataFrame'>\n",
      "RangeIndex: 17 entries, 0 to 16\n",
      "Data columns (total 38 columns):\n",
      " #   Column  Non-Null Count  Dtype  \n",
      "---  ------  --------------  -----  \n",
      " 0   FNL1    17 non-null     int64  \n",
      " 1   FNL2    17 non-null     int64  \n",
      " 2   FSP.1   17 non-null     int64  \n",
      " 3   FSW.1   17 non-null     int64  \n",
      " 4   SSP.1   17 non-null     int64  \n",
      " 5   SSW.1   17 non-null     int64  \n",
      " 6   ACE.1   17 non-null     int64  \n",
      " 7   DBF.1   17 non-null     float64\n",
      " 8   WNR.1   17 non-null     int64  \n",
      " 9   UFE.1   17 non-null     int64  \n",
      " 10  BPC.1   17 non-null     int64  \n",
      " 11  BPW.1   17 non-null     int64  \n",
      " 12  NPA.1   17 non-null     float64\n",
      " 13  NPW.1   17 non-null     float64\n",
      " 14  TPW.1   17 non-null     int64  \n",
      " 15  ST1.1   17 non-null     int64  \n",
      " 16  ST2.1   17 non-null     float64\n",
      " 17  ST3.1   17 non-null     float64\n",
      " 18  ST4.1   17 non-null     float64\n",
      " 19  ST5.1   17 non-null     float64\n",
      " 20  FSP.2   17 non-null     int64  \n",
      " 21  FSW.2   17 non-null     int64  \n",
      " 22  SSP.2   17 non-null     int64  \n",
      " 23  SSW.2   17 non-null     int64  \n",
      " 24  ACE.2   17 non-null     int64  \n",
      " 25  DBF.2   17 non-null     float64\n",
      " 26  WNR.2   17 non-null     int64  \n",
      " 27  UFE.2   17 non-null     int64  \n",
      " 28  BPC.2   17 non-null     int64  \n",
      " 29  BPW.2   17 non-null     int64  \n",
      " 30  NPA.2   17 non-null     float64\n",
      " 31  NPW.2   17 non-null     float64\n",
      " 32  TPW.2   17 non-null     int64  \n",
      " 33  ST1.2   17 non-null     int64  \n",
      " 34  ST2.2   17 non-null     float64\n",
      " 35  ST3.2   17 non-null     float64\n",
      " 36  ST4.2   17 non-null     float64\n",
      " 37  ST5.2   17 non-null     float64\n",
      "dtypes: float64(14), int64(24)\n",
      "memory usage: 5.2 KB\n"
     ]
    }
   ],
   "source": [
    "import pandas as pd\n",
    "dataset = pd.read_csv(\"data_9.csv\")\n",
    "result_dataset = dataset[\"Result\"]\n",
    "dataset.drop(columns=\"Result\", inplace=True, axis=1)\n",
    "dataset.info()"
   ]
  },
  {
   "cell_type": "code",
   "execution_count": 5,
   "metadata": {
    "ExecuteTime": {
     "end_time": "2023-09-19T09:08:24.698327Z",
     "start_time": "2023-09-19T09:08:24.480736Z"
    }
   },
   "outputs": [],
   "source": [
    "from sklearn.model_selection import train_test_split\n",
    "\n",
    "X_train, X_test, y_train, y_test = train_test_split(dataset, result_dataset, test_size=0.3, random_state=13)\n"
   ]
  },
  {
   "cell_type": "code",
   "execution_count": 17,
   "metadata": {
    "ExecuteTime": {
     "end_time": "2023-09-19T10:04:51.888557Z",
     "start_time": "2023-09-19T10:04:51.855451Z"
    }
   },
   "outputs": [
    {
     "name": "stdout",
     "output_type": "stream",
     "text": [
      "              precision    recall  f1-score   support\n",
      "\n",
      "           0       1.00      1.00      1.00         4\n",
      "           1       1.00      1.00      1.00         2\n",
      "\n",
      "    accuracy                           1.00         6\n",
      "   macro avg       1.00      1.00      1.00         6\n",
      "weighted avg       1.00      1.00      1.00         6\n",
      "\n"
     ]
    }
   ],
   "source": [
    "from sklearn.ensemble import RandomForestClassifier\n",
    "from sklearn.metrics import accuracy_score, confusion_matrix, classification_report\n",
    "rf_clf = RandomForestClassifier(n_estimators=20)\n",
    "rf_clf.fit(X_train, y_train)\n",
    "pred = rf_clf.predict(X_test)\n",
    "print(classification_report(y_test, pred))"
   ]
  },
  {
   "cell_type": "markdown",
   "metadata": {},
   "source": [
    "We got a 100% correct prediction. on the other hand, we only have 17 records in our sample, what might be not enough for a proper sampling."
   ]
  },
  {
   "cell_type": "markdown",
   "metadata": {},
   "source": [
    "# 2) Have you used any hyperparameter tuning while building the model in Q1? If yes, then plot the performances that were obtained at different steps of optimisation. Otherwise, create an optimised model and compare performance with Q1."
   ]
  },
  {
   "cell_type": "markdown",
   "metadata": {},
   "source": [
    "Yes I have. I have tried to minimize the number of estimators while maintaingng a good coverage. Still, with a small sampling size, it is quite difficult to get significant differences, but I tried with 5 and 10 estimators, and the model underperformed as shown below:"
   ]
  },
  {
   "cell_type": "code",
   "execution_count": 18,
   "metadata": {
    "ExecuteTime": {
     "end_time": "2023-09-19T10:13:49.704564Z",
     "start_time": "2023-09-19T10:13:49.652574Z"
    }
   },
   "outputs": [
    {
     "name": "stdout",
     "output_type": "stream",
     "text": [
      "              precision    recall  f1-score   support\n",
      "\n",
      "           0       1.00      0.75      0.86         4\n",
      "           1       0.67      1.00      0.80         2\n",
      "\n",
      "    accuracy                           0.83         6\n",
      "   macro avg       0.83      0.88      0.83         6\n",
      "weighted avg       0.89      0.83      0.84         6\n",
      "\n",
      "              precision    recall  f1-score   support\n",
      "\n",
      "           0       1.00      0.75      0.86         4\n",
      "           1       0.67      1.00      0.80         2\n",
      "\n",
      "    accuracy                           0.83         6\n",
      "   macro avg       0.83      0.88      0.83         6\n",
      "weighted avg       0.89      0.83      0.84         6\n",
      "\n"
     ]
    }
   ],
   "source": [
    "rf_clf5 = RandomForestClassifier(n_estimators=5)\n",
    "rf_clf10 = RandomForestClassifier(n_estimators=10)\n",
    "rf_clf5.fit(X_train, y_train)\n",
    "pred5 = rf_clf5.predict(X_test)\n",
    "rf_clf10 = RandomForestClassifier(n_estimators=10)\n",
    "rf_clf10.fit(X_train, y_train)\n",
    "pred10 = rf_clf10.predict(X_test)\n",
    "print(classification_report(y_test, pred5))\n",
    "print(classification_report(y_test, pred10))"
   ]
  },
  {
   "cell_type": "markdown",
   "metadata": {},
   "source": []
  },
  {
   "cell_type": "markdown",
   "metadata": {},
   "source": []
  },
  {
   "cell_type": "code",
   "execution_count": 14,
   "metadata": {
    "ExecuteTime": {
     "end_time": "2023-09-19T09:14:00.203453Z",
     "start_time": "2023-09-19T09:13:59.212422Z"
    }
   },
   "outputs": [
    {
     "name": "stdout",
     "output_type": "stream",
     "text": [
      "[0.         0.         0.         0.         0.         0.\n",
      " 0.         0.         0.2        0.07777778 0.         0.2\n",
      " 0.         0.         0.12222222 0.         0.         0.\n",
      " 0.         0.2        0.         0.         0.         0.\n",
      " 0.         0.         0.         0.         0.         0.\n",
      " 0.         0.2        0.         0.         0.         0.\n",
      " 0.         0.        ]\n",
      "FNL1     0.0\n",
      "FNL2     0.0\n",
      "FSP.1    0.0\n",
      "FSW.1    0.0\n",
      "SSP.1    0.0\n",
      "dtype: float64\n"
     ]
    },
    {
     "data": {
      "image/png": "[encoded data removed]",
      "text/plain": [
       "<Figure size 640x480 with 1 Axes>"
      ]
     },
     "metadata": {},
     "output_type": "display_data"
    }
   ],
   "source": [
    "import numpy as np\n",
    "import matplotlib.pyplot as plt\n",
    "\n",
    "importances = rf_clf.feature_importances_\n",
    "print(importances)\n",
    "forest_importances = pd.Series(importances, index=list(X_train.columns))\n",
    "std = np.std([tree.feature_importances_ for tree in rf_clf.estimators_], axis=0)\n",
    "print(forest_importances.head())\n",
    "fig, ax = plt.subplots()\n",
    "forest_importances.plot.bar(yerr=std, ax=ax)\n",
    "ax.set_title(\"Feature importances using MDI\")\n",
    "ax.set_ylabel(\"Mean decrease in impurity\")\n",
    "fig.tight_layout()"
   ]
  },
  {
   "cell_type": "markdown",
   "metadata": {},
   "source": [
    "# 3) Reflect on the importance of hyperparameter tuning of ML models based on your ML model development exercise"
   ]
  },
  {
   "cell_type": "markdown",
   "metadata": {},
   "source": [
    "Utilizing the correct hyperparameters is paramount to ensure the best possible results on a machine learning model. Either by preventing overfitting or preventing overload, hyperparameters have a huge impact on the result of a model.\n"
   ]
  },
  {
   "cell_type": "markdown",
   "metadata": {},
   "source": [
    "# 4) Create a GradientBoost model for the predicting Result using the same dataset that you have used Q1 and report the performance.\n",
    "\n"
   ]
  },
  {
   "cell_type": "code",
   "execution_count": 19,
   "metadata": {
    "ExecuteTime": {
     "end_time": "2023-09-19T11:33:46.281385Z",
     "start_time": "2023-09-19T11:33:46.257964Z"
    }
   },
   "outputs": [],
   "source": [
    "from sklearn.ensemble import AdaBoostClassifier\n",
    "from __future__ import print_function\n",
    "from ipywidgets import interact, interactive, fixed, interact_manual\n",
    "from IPython.display import clear_output, display\n",
    "import ipywidgets as widgets\n",
    "import matplotlib.pyplot as plt\n",
    "from sklearn.metrics import ConfusionMatrixDisplay\n",
    "def conmat(y_test, pred):\n",
    "    fig, ax = plt.subplots(figsize=(10, 5))\n",
    "    ConfusionMatrixDisplay.from_predictions(y_test, pred, ax=ax)\n",
    "    _ = ax.set_title(\n",
    "        f\"Confusion Matrix for {rf_clf.__class__.__name__}\"\n",
    "    )"
   ]
  },
  {
   "cell_type": "markdown",
   "source": [
    "def f(n_estimators,learning_rate):\n",
    "    abc =AdaBoostClassifier(n_estimators=n_estimators,learning_rate=learning_rate, random_state=0)\n",
    "    abc.fit(X_train, y_train)\n",
    "    pred = abc.predict(X_test)\n",
    "    conmat(y_test, pred)\n",
    "    print('The accuracy of the RF classifier on test data is {:.2f} out of 1 '.format(abc.score(X_test, y_test)))\n",
    "\n",
    "interact(f,learning_rate=np.arange(0.1,1,0.1),n_estimators=np.arange(10,800,100));"
   ],
   "metadata": {
    "collapsed": false
   }
  },
  {
   "cell_type": "markdown",
   "metadata": {},
   "source": [
    "Analysing the results the model too was able to predict 100% of our test sample (30%). The results indicate 100% true positives, 0% false positives, 100% true negatives and 0% false negatives. Again, the sampling for this dataset is quite low to get a significant variance.\n"
   ]
  },
  {
   "cell_type": "markdown",
   "source": [
    "# 5)Compare the performance of two models (Q1 and Q4). Explain which model is good and why.\n",
    "\n"
   ],
   "metadata": {
    "collapsed": false
   }
  },
  {
   "cell_type": "markdown",
   "source": [
    "Both models performed quite well. Still, there was not a significant sample size to do a proper breakdown and ensure more variance on our data, but it was a good start. Both models are good and highly depend on the data you are trying to predict. Ada boost for example is more sensitive to noise in the data, so it's better for clean datasets and binary classification trees. Random Forest on the other hand is less prone to overfitting and more robust to noise."
   ],
   "metadata": {
    "collapsed": false
   }
  },
  {
   "cell_type": "code",
   "execution_count": null,
   "outputs": [],
   "source": [],
   "metadata": {
    "collapsed": false
   }
  }
 ],
 "metadata": {
  "kernelspec": {
   "display_name": "Python 3 (ipykernel)",
   "language": "python",
   "name": "python3"
  },
  "language_info": {
   "codemirror_mode": {
    "name": "ipython",
    "version": 3
   },
   "file_extension": ".py",
   "mimetype": "text/x-python",
   "name": "python",
   "nbconvert_exporter": "python",
   "pygments_lexer": "ipython3",
   "version": "3.10.12"
  }
 },
 "nbformat": 4,
 "nbformat_minor": 1
}
