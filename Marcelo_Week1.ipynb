{
 "cells": [
  {
   "cell_type": "markdown",
   "source": [
    "Pass Exercises from SIT720 Machine Learning, Week1 By Marcelo Marsson Goncalves da Costa.\n",
    "\n",
    "1) Define a string variable with your name. Print characters of odd and even position of your name.\n",
    "2) (assumption we are using 0 as the starting index and 0 is even)"
   ],
   "metadata": {
    "collapsed": false
   }
  },
  {
   "cell_type": "code",
   "execution_count": 1,
   "outputs": [
    {
     "name": "stdout",
     "output_type": "stream",
     "text": [
      "even chars: MreoMrsnGnavsd ot\n",
      "odd chars: acl aso ocle aCsa\n"
     ]
    }
   ],
   "source": [
    "my_name = \"Marcelo Marsson Goncalves da Costa\"\n",
    "even_chars = \"\"\n",
    "odd_chars = \"\"\n",
    "for i, char in enumerate(my_name):\n",
    "    if i%2 == 0:\n",
    "        even_chars = even_chars + char\n",
    "    else:\n",
    "        odd_chars = odd_chars + char\n",
    "print(\"even chars: \"+even_chars)\n",
    "print(\"odd chars: \"+odd_chars)"
   ],
   "metadata": {
    "collapsed": false,
    "ExecuteTime": {
     "end_time": "2023-08-25T20:53:30.690504402Z",
     "start_time": "2023-08-25T20:53:30.687720113Z"
    }
   }
  },
  {
   "cell_type": "markdown",
   "source": [
    "2) Create three variables named 'Student name', 'Course name', and 'EmailAddress'. Add 5 random values in these variables, where added values are not replaceable and print them.\n",
    "#### This question is QUITE confusing. Variable names do not accept spaces in python, and python does not have a constant keyword to avoid them being changed. If the point was using immutable data structures such as tuples, the wording should be different. We should add 5 random values to what exactly? 5 chars to a string? 5 different values to a tuple or dictionary? if so, the naming of the variables is not good as it should indicate that the variable is a list/dic/tuple and not a single record."
   ],
   "metadata": {
    "collapsed": false
   }
  },
  {
   "cell_type": "code",
   "execution_count": 2,
   "outputs": [
    {
     "name": "stdout",
     "output_type": "stream",
     "text": [
      "Student Names: {'qctsq', 'kimkl', 'pszqn', 'toewg', 'sdoam'}\n",
      "Course Names: {'iemcp', 'dyyrj', 'pinvi', 'gdldr', 'dybsf'}\n",
      "Email Addresses: {'odpoc@marsson.deakin.edu.au', 'eqehg@marsson.deakin.edu.au', 'clgir@marsson.deakin.edu.au', 'uyqjj@marsson.deakin.edu.au', 'lumru@marsson.deakin.edu.au'}\n"
     ]
    }
   ],
   "source": [
    "import random\n",
    "import string\n",
    "student_name = set()\n",
    "course_name = set()\n",
    "email_address = set()\n",
    "\n",
    "# Adding 5 unique/random values to each set\n",
    "while len(student_name) < 5:\n",
    "  student_name.add(''.join(random.choice(string.ascii_lowercase) for i in range(5)))\n",
    "\n",
    "while len(course_name) < 5:\n",
    "  course_name.add(''.join(random.choice(string.ascii_lowercase) for i in range(5)))\n",
    "\n",
    "while len(email_address) < 5:\n",
    "  email_address.add(''.join(random.choice(string.ascii_lowercase) for i in range(5)) + '@marsson.deakin.edu.au')\n",
    "\n",
    "print('Student Names:', student_name)\n",
    "print('Course Names:', course_name)\n",
    "print('Email Addresses:', email_address)"
   ],
   "metadata": {
    "collapsed": false,
    "ExecuteTime": {
     "end_time": "2023-08-24T09:37:44.115991285Z",
     "start_time": "2023-08-24T09:37:44.112186956Z"
    }
   }
  },
  {
   "cell_type": "markdown",
   "source": [
    "3. Create a dictionary variable with three keys, which are named same as the three variables created in the previous problem. Insert the previously created three variables values in the dictionary variable and print it."
   ],
   "metadata": {
    "collapsed": false
   }
  },
  {
   "cell_type": "code",
   "execution_count": 3,
   "outputs": [
    {
     "name": "stdout",
     "output_type": "stream",
     "text": [
      "{'student_name': {'qctsq', 'kimkl', 'pszqn', 'toewg', 'sdoam'}, 'course_name': {'iemcp', 'dyyrj', 'pinvi', 'gdldr', 'dybsf'}, 'email_address': {'odpoc@marsson.deakin.edu.au', 'eqehg@marsson.deakin.edu.au', 'clgir@marsson.deakin.edu.au', 'uyqjj@marsson.deakin.edu.au', 'lumru@marsson.deakin.edu.au'}}\n"
     ]
    }
   ],
   "source": [
    "crazy_dictionary = {\n",
    "    'student_name': student_name,\n",
    "    'course_name': course_name,\n",
    "    'email_address': email_address\n",
    "}\n",
    "\n",
    "print(crazy_dictionary)"
   ],
   "metadata": {
    "collapsed": false,
    "ExecuteTime": {
     "end_time": "2023-08-24T09:37:46.602068307Z",
     "start_time": "2023-08-24T09:37:46.597380566Z"
    }
   }
  },
  {
   "cell_type": "markdown",
   "source": [
    "4) Define a string variable 'energy' and assign value either 'Fossil' or 'Renewable'. Print \"Natural gas\" if the value of energy variable is 'Fossil' otherwise print \"solar power\". What will your program print if energy='Biomass '?\n",
    "Will print \"solar power\""
   ],
   "metadata": {
    "collapsed": false
   }
  },
  {
   "cell_type": "code",
   "execution_count": 4,
   "outputs": [
    {
     "name": "stdout",
     "output_type": "stream",
     "text": [
      "solar power\n"
     ]
    }
   ],
   "source": [
    "energy = \"Biomass \"\n",
    "if energy == \"Fossil\":\n",
    "    print(\"Natural Gas\")\n",
    "else:\n",
    "    print (\"solar power\")"
   ],
   "metadata": {
    "collapsed": false,
    "ExecuteTime": {
     "end_time": "2023-08-24T09:37:49.949383104Z",
     "start_time": "2023-08-24T09:37:49.945233343Z"
    }
   }
  },
  {
   "cell_type": "markdown",
   "source": [
    "5) Print all prime numbers between 0 and 100 separated by line.\n",
    "#### As there were no performance requirments, I used the basic recurrent method."
   ],
   "metadata": {
    "collapsed": false
   }
  },
  {
   "cell_type": "code",
   "execution_count": 5,
   "outputs": [
    {
     "name": "stdout",
     "output_type": "stream",
     "text": [
      "2\n",
      "3\n",
      "5\n",
      "7\n",
      "11\n",
      "13\n",
      "17\n",
      "19\n",
      "23\n",
      "29\n",
      "31\n",
      "37\n",
      "41\n",
      "43\n",
      "47\n",
      "53\n",
      "59\n",
      "61\n",
      "67\n",
      "71\n",
      "73\n",
      "79\n",
      "83\n",
      "89\n",
      "97\n"
     ]
    }
   ],
   "source": [
    "for number in range(2, 101):\n",
    "    for i in range(2, number):\n",
    "        if (number % i) == 0:\n",
    "            break\n",
    "    else:\n",
    "        print(number)"
   ],
   "metadata": {
    "collapsed": false,
    "ExecuteTime": {
     "end_time": "2023-08-24T09:37:50.937515132Z",
     "start_time": "2023-08-24T09:37:50.933430738Z"
    }
   }
  },
  {
   "cell_type": "markdown",
   "source": [
    "6) Is it possible to break a loop before executing for the defined number of iterations? If yes, provide an example using While loop structure. Otherwise, explain your answer (why and how).\n",
    "#### Yes it is, by using the break statement"
   ],
   "metadata": {
    "collapsed": false
   }
  },
  {
   "cell_type": "code",
   "execution_count": 6,
   "outputs": [
    {
     "name": "stdout",
     "output_type": "stream",
     "text": [
      "1\n",
      "2\n",
      "3\n",
      "4\n",
      "5\n",
      "6\n",
      "7\n",
      "8\n",
      "9\n",
      "10\n",
      "11\n",
      "12\n",
      "13\n",
      "14\n",
      "15\n",
      "16\n",
      "17\n",
      "18\n",
      "19\n",
      "20\n",
      "21\n",
      "22\n",
      "23\n",
      "24\n",
      "25\n",
      "26\n",
      "27\n",
      "28\n",
      "29\n",
      "30\n",
      "31\n",
      "32\n",
      "33\n",
      "34\n",
      "35\n",
      "36\n",
      "37\n",
      "38\n",
      "39\n",
      "40\n",
      "41\n",
      "42\n",
      "43\n",
      "44\n",
      "45\n",
      "46\n",
      "47\n",
      "48\n",
      "49\n",
      "50\n",
      "51\n",
      "52\n",
      "53\n",
      "54\n",
      "55\n",
      "56\n",
      "57\n",
      "58\n",
      "59\n",
      "60\n",
      "61\n",
      "62\n",
      "63\n",
      "64\n",
      "65\n",
      "66\n",
      "67\n",
      "68\n",
      "69\n",
      "70\n",
      "71\n",
      "72\n",
      "73\n",
      "74\n",
      "75\n",
      "76\n",
      "77\n",
      "78\n",
      "79\n",
      "80\n",
      "81\n",
      "82\n",
      "83\n",
      "84\n",
      "85\n",
      "86\n",
      "87\n",
      "88\n",
      "89\n",
      "90\n",
      "91\n",
      "92\n",
      "93\n",
      "94\n",
      "95\n",
      "96\n",
      "97\n",
      "98\n",
      "99\n",
      "100\n"
     ]
    }
   ],
   "source": [
    "i=0\n",
    "while True:\n",
    "    i += 1\n",
    "    print (i)\n",
    "    if i == 100:\n",
    "        break\n"
   ],
   "metadata": {
    "collapsed": false,
    "ExecuteTime": {
     "end_time": "2023-08-24T09:37:52.041372575Z",
     "start_time": "2023-08-24T09:37:52.037240819Z"
    }
   }
  },
  {
   "cell_type": "markdown",
   "source": [
    "7) Create  functions named  'Addition', 'Multiplication', 'Division' and 'Subtraction'. These functions takes two input parameters say (x, y) and return (x+y),(x*y), (x/y) and (x-y). Call the function with (4,7) arguments and print the outputs"
   ],
   "metadata": {
    "collapsed": false
   }
  },
  {
   "cell_type": "code",
   "execution_count": 7,
   "outputs": [
    {
     "name": "stdout",
     "output_type": "stream",
     "text": [
      "11\n",
      "28\n",
      "0.5714285714285714\n",
      "-3\n"
     ]
    }
   ],
   "source": [
    "def addition (param_1, param_2):\n",
    "    return param_1 + param_2\n",
    "\n",
    "def multiplication (param_1, param_2):\n",
    "    return param_1 * param_2\n",
    "\n",
    "def division (param_1, param_2):\n",
    "    return param_1 / param_2\n",
    "\n",
    "def subtraction (param_1, param_2):\n",
    "    return param_1 - param_2\n",
    "\n",
    "print (addition(4,7))\n",
    "print (multiplication(4,7))\n",
    "print (division(4,7))\n",
    "print (subtraction(4,7))"
   ],
   "metadata": {
    "collapsed": false,
    "ExecuteTime": {
     "end_time": "2023-08-24T09:37:53.042401584Z",
     "start_time": "2023-08-24T09:37:53.038635205Z"
    }
   }
  },
  {
   "cell_type": "markdown",
   "source": [
    "8) Create and display a 8x8 Identity matrix and multiply it with a 8x4 Random matrix.\n",
    "** Identity matrices are matrices where all te items from the main diagonal are 1, and all the other are 0\n",
    "#### As an assumption will generate a random float matrix to multiply.\n"
   ],
   "metadata": {
    "collapsed": false
   }
  },
  {
   "cell_type": "code",
   "execution_count": 16,
   "outputs": [
    {
     "name": "stdout",
     "output_type": "stream",
     "text": [
      "[[0.36672524 0.98729738 0.54973968 0.92605256]\n",
      " [0.68880133 0.52694081 0.53186371 0.69438741]\n",
      " [0.16589754 0.71148268 0.02649788 0.71021606]\n",
      " [0.8028238  0.52155957 0.17650823 0.23059806]\n",
      " [0.54449201 0.56171679 0.03986857 0.97536161]\n",
      " [0.11006012 0.89009685 0.9134267  0.36896225]\n",
      " [0.31817378 0.26403998 0.98064286 0.24128591]\n",
      " [0.82746087 0.13212496 0.47288826 0.4431712 ]]\n"
     ]
    }
   ],
   "source": [
    "import numpy as np\n",
    "identity = np.identity(8)\n",
    "random = np.random.rand(8,4);\n",
    "result_matrix = np.matmul(identity,random)\n",
    "print (result_matrix)"
   ],
   "metadata": {
    "collapsed": false,
    "ExecuteTime": {
     "start_time": "2023-07-29T11:36:56.748543Z",
     "end_time": "2023-07-29T11:36:57.903482Z"
    }
   }
  },
  {
   "cell_type": "markdown",
   "source": [
    "9) Create a 8x9 matrix, initialise with random values and print it. Now, transpose the matrix and print it. How the transposed matrix is different from original matrix?\n",
    "##### A transposed matrix has the rows transformed into columns or columns transposed into rows."
   ],
   "metadata": {
    "collapsed": false
   }
  },
  {
   "cell_type": "code",
   "execution_count": 17,
   "outputs": [
    {
     "name": "stdout",
     "output_type": "stream",
     "text": [
      "[[0.14503021 0.58217185 0.90439342 0.37077889 0.79402142 0.13028857\n",
      "  0.0144397  0.64555203 0.31432158]\n",
      " [0.13076799 0.0768405  0.32207679 0.62758618 0.34215225 0.59746121\n",
      "  0.6590024  0.88226036 0.98747803]\n",
      " [0.06930836 0.59897305 0.91340845 0.13708544 0.23616889 0.4445592\n",
      "  0.82406656 0.8236445  0.21560418]\n",
      " [0.63891277 0.69790117 0.62272864 0.90611132 0.62636735 0.20389515\n",
      "  0.36102132 0.25627109 0.15445934]\n",
      " [0.97999422 0.43508122 0.99231934 0.45836375 0.61463041 0.40158766\n",
      "  0.20732947 0.32460617 0.18667113]\n",
      " [0.13189182 0.40747955 0.98865379 0.40588014 0.39208023 0.65721704\n",
      "  0.9608708  0.63382372 0.12426009]\n",
      " [0.12649781 0.56069545 0.27673502 0.83233342 0.31750263 0.01118783\n",
      "  0.0393445  0.24118114 0.83041941]\n",
      " [0.47832266 0.39414084 0.49069846 0.24708354 0.34285115 0.80169282\n",
      "  0.77752902 0.76612362 0.09233549]]\n",
      "[[0.14503021 0.13076799 0.06930836 0.63891277 0.97999422 0.13189182\n",
      "  0.12649781 0.47832266]\n",
      " [0.58217185 0.0768405  0.59897305 0.69790117 0.43508122 0.40747955\n",
      "  0.56069545 0.39414084]\n",
      " [0.90439342 0.32207679 0.91340845 0.62272864 0.99231934 0.98865379\n",
      "  0.27673502 0.49069846]\n",
      " [0.37077889 0.62758618 0.13708544 0.90611132 0.45836375 0.40588014\n",
      "  0.83233342 0.24708354]\n",
      " [0.79402142 0.34215225 0.23616889 0.62636735 0.61463041 0.39208023\n",
      "  0.31750263 0.34285115]\n",
      " [0.13028857 0.59746121 0.4445592  0.20389515 0.40158766 0.65721704\n",
      "  0.01118783 0.80169282]\n",
      " [0.0144397  0.6590024  0.82406656 0.36102132 0.20732947 0.9608708\n",
      "  0.0393445  0.77752902]\n",
      " [0.64555203 0.88226036 0.8236445  0.25627109 0.32460617 0.63382372\n",
      "  0.24118114 0.76612362]\n",
      " [0.31432158 0.98747803 0.21560418 0.15445934 0.18667113 0.12426009\n",
      "  0.83041941 0.09233549]]\n"
     ]
    }
   ],
   "source": [
    "eight_by_nine = np.random.rand(8,9)\n",
    "eight_by_nine_transposed = eight_by_nine.transpose()\n",
    "print (eight_by_nine)\n",
    "print (eight_by_nine_transposed)\n"
   ],
   "metadata": {
    "collapsed": false,
    "ExecuteTime": {
     "start_time": "2023-07-29T11:36:58.219468Z",
     "end_time": "2023-07-29T11:36:58.227609Z"
    }
   }
  },
  {
   "cell_type": "raw",
   "source": [
    "10) Export the \"PedestrianCounting.csv\" file as a matrix. The row of the matrix represents data point or instance and the column represents the variable or feature. Print the number of data instances and variables present in this dataset. Calculate mean of the third variable and deduct this mean from original values of the variable. Print both original and modified values of the variable."
   ],
   "metadata": {
    "collapsed": false
   }
  },
  {
   "cell_type": "markdown",
   "source": [],
   "metadata": {
    "collapsed": false
   }
  },
  {
   "cell_type": "code",
   "execution_count": 18,
   "outputs": [
    {
     "name": "stdout",
     "output_type": "stream",
     "text": [
      "[ 791. 1301. 1532. ...   34.   57.   48.]\n",
      "[ 584.28408676 1094.28408676 1325.28408676 ... -172.71591324 -149.71591324\n",
      " -158.71591324]\n"
     ]
    }
   ],
   "source": [
    "ped_corss_matrix = np.genfromtxt(\"PedestrianCounting.csv\", delimiter=\",\" ,skip_header=1)\n",
    "ped_corss_matrix_2_copy = ped_corss_matrix[:, 2].copy()\n",
    "mean = np.mean(ped_corss_matrix_2_copy)\n",
    "ped_cross_3_minus_mean = ped_corss_matrix_2_copy - mean\n",
    "\n",
    "print(ped_corss_matrix_2_copy)\n",
    "print(ped_cross_3_minus_mean)"
   ],
   "metadata": {
    "collapsed": false,
    "ExecuteTime": {
     "start_time": "2023-07-29T11:37:01.819822Z",
     "end_time": "2023-07-29T11:37:02.454151Z"
    }
   }
  },
  {
   "cell_type": "code",
   "execution_count": null,
   "outputs": [],
   "source": [],
   "metadata": {
    "collapsed": false
   }
  }
 ],
 "metadata": {
  "kernelspec": {
   "display_name": "Python 3",
   "language": "python",
   "name": "python3"
  },
  "language_info": {
   "codemirror_mode": {
    "name": "ipython",
    "version": 2
   },
   "file_extension": ".py",
   "mimetype": "text/x-python",
   "name": "python",
   "nbconvert_exporter": "python",
   "pygments_lexer": "ipython2",
   "version": "2.7.6"
  }
 },
 "nbformat": 4,
 "nbformat_minor": 0
}
