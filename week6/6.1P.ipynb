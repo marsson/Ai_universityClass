{
 "cells": [
  {
   "cell_type": "markdown",
   "id": "425f424f98da7c22",
   "metadata": {},
   "source": [
    " 1) Download and read the \"data.csv\" dataset. Split the dataset in train and test set (use your choice of splitting). Train a linear regression model for predicting \"Apparent Temperature (C)\" and report the performance (use your choice of at least four performance metrics)"
   ]
  },
  {
   "cell_type": "code",
   "execution_count": 2,
   "id": "b607fce6ffe2cfb3",
   "metadata": {
    "ExecuteTime": {
     "end_time": "2023-08-30T22:03:19.776378400Z",
     "start_time": "2023-08-30T22:03:19.679726500Z"
    }
   },
   "outputs": [
    {
     "name": "stdout",
     "output_type": "stream",
     "text": [
      "<class 'pandas.core.frame.DataFrame'>\n",
      "RangeIndex: 96453 entries, 0 to 96452\n",
      "Data columns (total 8 columns):\n",
      " #   Column                    Non-Null Count  Dtype  \n",
      "---  ------                    --------------  -----  \n",
      " 0   Precip Type               95936 non-null  object \n",
      " 1   Temperature (C)           96453 non-null  float64\n",
      " 2   Apparent Temperature (C)  96453 non-null  float64\n",
      " 3   Humidity                  96453 non-null  float64\n",
      " 4   Wind Speed (km/h)         96453 non-null  float64\n",
      " 5   Wind Bearing (degrees)    96453 non-null  int64  \n",
      " 6   Visibility (km)           96453 non-null  float64\n",
      " 7   Pressure (millibars)      96453 non-null  float64\n",
      "dtypes: float64(6), int64(1), object(1)\n",
      "memory usage: 5.9+ MB\n"
     ]
    }
   ],
   "source": [
    "import pandas as pd\n",
    "\n",
    "dataframe = pd.read_csv(\"data_6.csv\")\n",
    "dataframe.info()"
   ]
  },
  {
   "cell_type": "code",
   "execution_count": 3,
   "id": "579e4de89062c235",
   "metadata": {
    "ExecuteTime": {
     "end_time": "2023-08-30T22:03:21.079052500Z",
     "start_time": "2023-08-30T22:03:21.046541500Z"
    }
   },
   "outputs": [
    {
     "data": {
      "text/plain": "array(['rain', 'snow', nan], dtype=object)"
     },
     "execution_count": 3,
     "metadata": {},
     "output_type": "execute_result"
    }
   ],
   "source": [
    "dataframe[\"Precip Type\"].unique()"
   ]
  },
  {
   "cell_type": "code",
   "execution_count": 4,
   "id": "89180fa9a4c35221",
   "metadata": {
    "ExecuteTime": {
     "end_time": "2023-08-30T22:03:22.331893700Z",
     "start_time": "2023-08-30T22:03:22.328895100Z"
    }
   },
   "outputs": [],
   "source": [
    "dataframe.dropna(subset=[\"Precip Type\"], inplace=True)"
   ]
  },
  {
   "cell_type": "code",
   "execution_count": 5,
   "id": "597723fdfd703073",
   "metadata": {
    "ExecuteTime": {
     "end_time": "2023-08-30T22:03:23.353888100Z",
     "start_time": "2023-08-30T22:03:23.344882900Z"
    }
   },
   "outputs": [
    {
     "data": {
      "text/plain": "0"
     },
     "execution_count": 5,
     "metadata": {},
     "output_type": "execute_result"
    }
   ],
   "source": [
    "dataframe.isnull().values.sum()"
   ]
  },
  {
   "cell_type": "code",
   "execution_count": 6,
   "id": "13e635b5795f46e3",
   "metadata": {
    "ExecuteTime": {
     "end_time": "2023-08-30T22:03:24.144196100Z",
     "start_time": "2023-08-30T22:03:24.138192800Z"
    }
   },
   "outputs": [
    {
     "data": {
      "text/plain": "   Precip Type  Temperature (C)  Apparent Temperature (C)  Humidity  \\\n0            0         9.472222                  7.388889      0.89   \n1            0         9.355556                  7.227778      0.86   \n2            0         9.377778                  9.377778      0.89   \n3            0         8.288889                  5.944444      0.83   \n4            0         8.755556                  6.977778      0.83   \n\n   Wind Speed (km/h)  Wind Bearing (degrees)  Visibility (km)  \\\n0            14.1197                     251          15.8263   \n1            14.2646                     259          15.8263   \n2             3.9284                     204          14.9569   \n3            14.1036                     269          15.8263   \n4            11.0446                     259          15.8263   \n\n   Pressure (millibars)  \n0               1015.13  \n1               1015.63  \n2               1015.94  \n3               1016.41  \n4               1016.51  ",
      "text/html": "<div>\n<style scoped>\n    .dataframe tbody tr th:only-of-type {\n        vertical-align: middle;\n    }\n\n    .dataframe tbody tr th {\n        vertical-align: top;\n    }\n\n    .dataframe thead th {\n        text-align: right;\n    }\n</style>\n<table border=\"1\" class=\"dataframe\">\n  <thead>\n    <tr style=\"text-align: right;\">\n      <th></th>\n      <th>Precip Type</th>\n      <th>Temperature (C)</th>\n      <th>Apparent Temperature (C)</th>\n      <th>Humidity</th>\n      <th>Wind Speed (km/h)</th>\n      <th>Wind Bearing (degrees)</th>\n      <th>Visibility (km)</th>\n      <th>Pressure (millibars)</th>\n    </tr>\n  </thead>\n  <tbody>\n    <tr>\n      <th>0</th>\n      <td>0</td>\n      <td>9.472222</td>\n      <td>7.388889</td>\n      <td>0.89</td>\n      <td>14.1197</td>\n      <td>251</td>\n      <td>15.8263</td>\n      <td>1015.13</td>\n    </tr>\n    <tr>\n      <th>1</th>\n      <td>0</td>\n      <td>9.355556</td>\n      <td>7.227778</td>\n      <td>0.86</td>\n      <td>14.2646</td>\n      <td>259</td>\n      <td>15.8263</td>\n      <td>1015.63</td>\n    </tr>\n    <tr>\n      <th>2</th>\n      <td>0</td>\n      <td>9.377778</td>\n      <td>9.377778</td>\n      <td>0.89</td>\n      <td>3.9284</td>\n      <td>204</td>\n      <td>14.9569</td>\n      <td>1015.94</td>\n    </tr>\n    <tr>\n      <th>3</th>\n      <td>0</td>\n      <td>8.288889</td>\n      <td>5.944444</td>\n      <td>0.83</td>\n      <td>14.1036</td>\n      <td>269</td>\n      <td>15.8263</td>\n      <td>1016.41</td>\n    </tr>\n    <tr>\n      <th>4</th>\n      <td>0</td>\n      <td>8.755556</td>\n      <td>6.977778</td>\n      <td>0.83</td>\n      <td>11.0446</td>\n      <td>259</td>\n      <td>15.8263</td>\n      <td>1016.51</td>\n    </tr>\n  </tbody>\n</table>\n</div>"
     },
     "execution_count": 6,
     "metadata": {},
     "output_type": "execute_result"
    }
   ],
   "source": [
    "## now that we have no more nulls to worry about, normalize our class.\n",
    "#prepare class:\n",
    "dataframe[\"Precip Type\"] = dataframe[\"Precip Type\"].map({'rain':0, 'snow':1})\n",
    "dataframe.head()"
   ]
  },
  {
   "cell_type": "code",
   "execution_count": 7,
   "id": "fd3fb1f6f391e0e9",
   "metadata": {
    "ExecuteTime": {
     "end_time": "2023-08-30T22:03:25.590333800Z",
     "start_time": "2023-08-30T22:03:25.195445300Z"
    }
   },
   "outputs": [
    {
     "data": {
      "text/plain": "   Precip Type  Temperature (C)  Apparent Temperature (C)  Humidity  \\\n0            0        -0.257951                 -0.324102  0.792748   \n1            0        -0.270141                 -0.339134  0.639470   \n2            0        -0.267819                 -0.138532  0.792748   \n3            0        -0.381594                 -0.458873  0.486192   \n4            0        -0.332833                 -0.362460  0.486192   \n\n   Wind Speed (km/h)  Wind Bearing (degrees)  Visibility (km)  \\\n0           0.478964                0.591157         1.309107   \n1           0.499902                0.665655         1.309107   \n2          -0.993620                0.153478         1.100806   \n3           0.476638                0.758778         1.309107   \n4           0.034630                0.665655         1.309107   \n\n   Pressure (millibars)  \n0              0.102152  \n1              0.106415  \n2              0.109058  \n3              0.113066  \n4              0.113919  ",
      "text/html": "<div>\n<style scoped>\n    .dataframe tbody tr th:only-of-type {\n        vertical-align: middle;\n    }\n\n    .dataframe tbody tr th {\n        vertical-align: top;\n    }\n\n    .dataframe thead th {\n        text-align: right;\n    }\n</style>\n<table border=\"1\" class=\"dataframe\">\n  <thead>\n    <tr style=\"text-align: right;\">\n      <th></th>\n      <th>Precip Type</th>\n      <th>Temperature (C)</th>\n      <th>Apparent Temperature (C)</th>\n      <th>Humidity</th>\n      <th>Wind Speed (km/h)</th>\n      <th>Wind Bearing (degrees)</th>\n      <th>Visibility (km)</th>\n      <th>Pressure (millibars)</th>\n    </tr>\n  </thead>\n  <tbody>\n    <tr>\n      <th>0</th>\n      <td>0</td>\n      <td>-0.257951</td>\n      <td>-0.324102</td>\n      <td>0.792748</td>\n      <td>0.478964</td>\n      <td>0.591157</td>\n      <td>1.309107</td>\n      <td>0.102152</td>\n    </tr>\n    <tr>\n      <th>1</th>\n      <td>0</td>\n      <td>-0.270141</td>\n      <td>-0.339134</td>\n      <td>0.639470</td>\n      <td>0.499902</td>\n      <td>0.665655</td>\n      <td>1.309107</td>\n      <td>0.106415</td>\n    </tr>\n    <tr>\n      <th>2</th>\n      <td>0</td>\n      <td>-0.267819</td>\n      <td>-0.138532</td>\n      <td>0.792748</td>\n      <td>-0.993620</td>\n      <td>0.153478</td>\n      <td>1.100806</td>\n      <td>0.109058</td>\n    </tr>\n    <tr>\n      <th>3</th>\n      <td>0</td>\n      <td>-0.381594</td>\n      <td>-0.458873</td>\n      <td>0.486192</td>\n      <td>0.476638</td>\n      <td>0.758778</td>\n      <td>1.309107</td>\n      <td>0.113066</td>\n    </tr>\n    <tr>\n      <th>4</th>\n      <td>0</td>\n      <td>-0.332833</td>\n      <td>-0.362460</td>\n      <td>0.486192</td>\n      <td>0.034630</td>\n      <td>0.665655</td>\n      <td>1.309107</td>\n      <td>0.113919</td>\n    </tr>\n  </tbody>\n</table>\n</div>"
     },
     "execution_count": 7,
     "metadata": {},
     "output_type": "execute_result"
    }
   ],
   "source": [
    "from sklearn.model_selection import train_test_split\n",
    "from sklearn.preprocessing import StandardScaler\n",
    "\n",
    "scaler = StandardScaler()\n",
    "dataframe[dataframe.columns.difference(['Precip Type'])] = StandardScaler().fit_transform(dataframe[dataframe.columns.difference(['Precip Type'])])\n",
    "dataframe.head()\n",
    "\n"
   ]
  },
  {
   "cell_type": "code",
   "execution_count": 8,
   "id": "429eec1b295f42e8",
   "metadata": {
    "ExecuteTime": {
     "end_time": "2023-08-30T22:03:26.774904500Z",
     "start_time": "2023-08-30T22:03:26.734767900Z"
    }
   },
   "outputs": [
    {
     "name": "stdout",
     "output_type": "stream",
     "text": [
      "Original distribution:\n",
      "0    0.888342\n",
      "1    0.111658\n",
      "Name: Precip Type, dtype: float64\n",
      "\n",
      "Training distribution:\n",
      "0    0.888336\n",
      "1    0.111664\n",
      "Name: Precip Type, dtype: float64\n",
      "\n",
      "Test distribution:\n",
      "0    0.888368\n",
      "1    0.111632\n",
      "Name: Precip Type, dtype: float64\n"
     ]
    }
   ],
   "source": [
    "# Split the data into training and test sets, keeping the proportion of label on a 80-20 prop.\n",
    "y = dataframe[\"Apparent Temperature (C)\"]\n",
    "X = dataframe[dataframe.columns.difference(['Precip Type', 'Apparent Temperature (C)'])]\n",
    "\n",
    "X_train, X_test, y_train, y_test = train_test_split ( X, y, test_size=0.2, stratify=dataframe['Precip Type'], random_state = 13)\n",
    "# Show the proportion of each value in the 'Precip Type' column for the original dataframe\n",
    "# Check the proportion of 'Precip Type' in the original, training, and test data\n",
    "print(\"Original distribution:\")\n",
    "print(dataframe['Precip Type'].value_counts(normalize=True))\n",
    "\n",
    "print(\"\\nTraining distribution:\")\n",
    "print(dataframe.loc[X_train.index, 'Precip Type'].value_counts(normalize=True))\n",
    "\n",
    "print(\"\\nTest distribution:\")\n",
    "print(dataframe.loc[X_test.index, 'Precip Type'].value_counts(normalize=True))\n"
   ]
  },
  {
   "cell_type": "code",
   "execution_count": 8,
   "id": "dc0d1f46314c9db6",
   "metadata": {
    "ExecuteTime": {
     "end_time": "2023-08-30T22:03:27.936731800Z",
     "start_time": "2023-08-30T22:03:27.934730600Z"
    }
   },
   "outputs": [],
   "source": []
  },
  {
   "cell_type": "code",
   "execution_count": 9,
   "id": "402614483490f569",
   "metadata": {
    "ExecuteTime": {
     "end_time": "2023-08-30T22:03:28.902945400Z",
     "start_time": "2023-08-30T22:03:28.854925400Z"
    }
   },
   "outputs": [
    {
     "name": "stdout",
     "output_type": "stream",
     "text": [
      "Median Absolute Error: 0.06560\n",
      "Mean Absolute Error (MAE): 0.07911\n",
      "Mean Squared Error (MSE): 0.01012\n",
      "R-squared (R2): 0.98988\n"
     ]
    }
   ],
   "source": [
    "from sklearn.linear_model import LinearRegression\n",
    "from sklearn.metrics import mean_absolute_error, mean_squared_error, r2_score, median_absolute_error\n",
    "\n",
    "lin = LinearRegression()\n",
    "lin.fit(X_train, y_train)\n",
    "y_pred = lin.predict(X_test)\n",
    "\n",
    "mae = mean_absolute_error(y_test, y_pred)\n",
    "mse = mean_squared_error(y_test, y_pred)\n",
    "r2 = r2_score(y_test, y_pred)\n",
    "median = median_absolute_error(y_test, y_pred)\n",
    "\n",
    "# Print metrics to the screen\n",
    "\n",
    "print(f\"Median Absolute Error: {median:.5f}\")\n",
    "print(f\"Mean Absolute Error (MAE): {mae:.5f}\")\n",
    "print(f\"Mean Squared Error (MSE): {mse:.5f}\")\n",
    "print(f\"R-squared (R2): {r2:.5f}\")\n"
   ]
  },
  {
   "cell_type": "markdown",
   "id": "aca6979640f16b5b",
   "metadata": {},
   "source": [
    " 2) Apply PCA on the dataset and select the first three principal components. Split the dataset into train and test using the same method used in Q1. Compare the performance of this model with the performance obtained in Q1.  Explain the outcome."
   ]
  },
  {
   "cell_type": "code",
   "execution_count": 10,
   "id": "f1f44369d36b1388",
   "metadata": {
    "ExecuteTime": {
     "end_time": "2023-08-30T22:03:33.839222800Z",
     "start_time": "2023-08-30T22:03:33.761067400Z"
    }
   },
   "outputs": [
    {
     "name": "stdout",
     "output_type": "stream",
     "text": [
      "Median Absolute Error: 0.35722\n",
      "Mean Absolute Error (MAE): 0.42736\n",
      "Mean Squared Error (MSE): 0.29454\n",
      "R-squared (R2): 0.70542\n"
     ]
    }
   ],
   "source": [
    "from sklearn.decomposition import PCA\n",
    "\n",
    "pca = PCA(n_components=3)\n",
    "pca.fit(X)\n",
    "X_PCA = pca.transform(X)\n",
    "X_train_pca, X_test_pca, y_train_pca, y_test_pca = train_test_split ( X_PCA, y, test_size=0.2, stratify=dataframe['Precip Type'], random_state = 13)\n",
    "\n",
    "\n",
    "lin_PCA = LinearRegression()\n",
    "lin_PCA.fit(X_train_pca, y_train_pca)\n",
    "y_pred_PCA = lin_PCA.predict(X_test_pca)\n",
    "\n",
    "mae_pca = mean_absolute_error(y_test_pca, y_pred_PCA)\n",
    "mse_pca = mean_squared_error(y_test_pca, y_pred_PCA)\n",
    "r2_pca = r2_score(y_test_pca, y_pred_PCA)\n",
    "median_pca = median_absolute_error(y_test_pca, y_pred_PCA)\n",
    "\n",
    "print(f\"Median Absolute Error: {median_pca:.5f}\")\n",
    "print(f\"Mean Absolute Error (MAE): {mae_pca:.5f}\")\n",
    "print(f\"Mean Squared Error (MSE): {mse_pca:.5f}\")\n",
    "print(f\"R-squared (R2): {r2_pca:.5f}\")"
   ]
  },
  {
   "cell_type": "markdown",
   "id": "a5abebc52f84d692",
   "metadata": {},
   "source": [
    "We can see quite a decrease on the model quality when we perform a PCA to only 3 features. The reason for that is the decrease of variance caused by the feature decomposition."
   ]
  },
  {
   "cell_type": "markdown",
   "id": "3ef1be80934c967a",
   "metadata": {},
   "source": [
    " 3) Load \"data.csv \" datasets  and follow this link for the data description (features ['Temperature (C)','Humidity','Wind Speed (km/h)','Wind Bearing (degrees)','Visibility (km)','Pressure (millibars)'] and Precip Type as target). Apply PCA on the dataset and select the first three principal components. Split the dataset in train and test set (use your choice of splitting). Train a logistic regression model and report the performance (use your choice of at least 4 performance metric)."
   ]
  },
  {
   "cell_type": "code",
   "execution_count": 11,
   "id": "7891ad23906b5a6a",
   "metadata": {
    "ExecuteTime": {
     "end_time": "2023-08-30T22:03:45.809612300Z",
     "start_time": "2023-08-30T22:03:45.722695700Z"
    }
   },
   "outputs": [
    {
     "name": "stdout",
     "output_type": "stream",
     "text": [
      "<class 'pandas.core.frame.DataFrame'>\n",
      "RangeIndex: 96453 entries, 0 to 96452\n",
      "Data columns (total 8 columns):\n",
      " #   Column                    Non-Null Count  Dtype  \n",
      "---  ------                    --------------  -----  \n",
      " 0   Precip Type               95936 non-null  object \n",
      " 1   Temperature (C)           96453 non-null  float64\n",
      " 2   Apparent Temperature (C)  96453 non-null  float64\n",
      " 3   Humidity                  96453 non-null  float64\n",
      " 4   Wind Speed (km/h)         96453 non-null  float64\n",
      " 5   Wind Bearing (degrees)    96453 non-null  int64  \n",
      " 6   Visibility (km)           96453 non-null  float64\n",
      " 7   Pressure (millibars)      96453 non-null  float64\n",
      "dtypes: float64(6), int64(1), object(1)\n",
      "memory usage: 5.9+ MB\n"
     ]
    }
   ],
   "source": [
    "dataframe_2 = pd.read_csv(\"data_6.csv\")\n",
    "dataframe_2.info()"
   ]
  },
  {
   "cell_type": "code",
   "execution_count": 12,
   "id": "d174396337e41de6",
   "metadata": {
    "ExecuteTime": {
     "end_time": "2023-08-30T22:03:48.137248900Z",
     "start_time": "2023-08-30T22:03:48.080733900Z"
    }
   },
   "outputs": [
    {
     "name": "stdout",
     "output_type": "stream",
     "text": [
      "<class 'pandas.core.frame.DataFrame'>\n",
      "Int64Index: 95936 entries, 0 to 96452\n",
      "Data columns (total 8 columns):\n",
      " #   Column                    Non-Null Count  Dtype  \n",
      "---  ------                    --------------  -----  \n",
      " 0   Precip Type               95936 non-null  object \n",
      " 1   Temperature (C)           95936 non-null  float64\n",
      " 2   Apparent Temperature (C)  95936 non-null  float64\n",
      " 3   Humidity                  95936 non-null  float64\n",
      " 4   Wind Speed (km/h)         95936 non-null  float64\n",
      " 5   Wind Bearing (degrees)    95936 non-null  int64  \n",
      " 6   Visibility (km)           95936 non-null  float64\n",
      " 7   Pressure (millibars)      95936 non-null  float64\n",
      "dtypes: float64(6), int64(1), object(1)\n",
      "memory usage: 6.6+ MB\n"
     ]
    }
   ],
   "source": [
    "dataframe_2.dropna(subset=[\"Precip Type\"], inplace=True)\n",
    "dataframe_2.info()"
   ]
  },
  {
   "cell_type": "code",
   "execution_count": 13,
   "id": "1643636a40907a7a",
   "metadata": {
    "ExecuteTime": {
     "end_time": "2023-08-30T22:03:49.484187900Z",
     "start_time": "2023-08-30T22:03:49.163909Z"
    }
   },
   "outputs": [
    {
     "name": "stdout",
     "output_type": "stream",
     "text": [
      "<class 'pandas.core.frame.DataFrame'>\n",
      "Int64Index: 95936 entries, 0 to 96452\n",
      "Data columns (total 7 columns):\n",
      " #   Column                  Non-Null Count  Dtype  \n",
      "---  ------                  --------------  -----  \n",
      " 0   Precip Type             95936 non-null  object \n",
      " 1   Temperature (C)         95936 non-null  float64\n",
      " 2   Humidity                95936 non-null  float64\n",
      " 3   Wind Speed (km/h)       95936 non-null  float64\n",
      " 4   Wind Bearing (degrees)  95936 non-null  int64  \n",
      " 5   Visibility (km)         95936 non-null  float64\n",
      " 6   Pressure (millibars)    95936 non-null  float64\n",
      "dtypes: float64(5), int64(1), object(1)\n",
      "memory usage: 5.9+ MB\n"
     ]
    },
    {
     "data": {
      "text/plain": "LogisticRegression()",
      "text/html": "<style>#sk-container-id-1 {color: black;}#sk-container-id-1 pre{padding: 0;}#sk-container-id-1 div.sk-toggleable {background-color: white;}#sk-container-id-1 label.sk-toggleable__label {cursor: pointer;display: block;width: 100%;margin-bottom: 0;padding: 0.3em;box-sizing: border-box;text-align: center;}#sk-container-id-1 label.sk-toggleable__label-arrow:before {content: \"▸\";float: left;margin-right: 0.25em;color: #696969;}#sk-container-id-1 label.sk-toggleable__label-arrow:hover:before {color: black;}#sk-container-id-1 div.sk-estimator:hover label.sk-toggleable__label-arrow:before {color: black;}#sk-container-id-1 div.sk-toggleable__content {max-height: 0;max-width: 0;overflow: hidden;text-align: left;background-color: #f0f8ff;}#sk-container-id-1 div.sk-toggleable__content pre {margin: 0.2em;color: black;border-radius: 0.25em;background-color: #f0f8ff;}#sk-container-id-1 input.sk-toggleable__control:checked~div.sk-toggleable__content {max-height: 200px;max-width: 100%;overflow: auto;}#sk-container-id-1 input.sk-toggleable__control:checked~label.sk-toggleable__label-arrow:before {content: \"▾\";}#sk-container-id-1 div.sk-estimator input.sk-toggleable__control:checked~label.sk-toggleable__label {background-color: #d4ebff;}#sk-container-id-1 div.sk-label input.sk-toggleable__control:checked~label.sk-toggleable__label {background-color: #d4ebff;}#sk-container-id-1 input.sk-hidden--visually {border: 0;clip: rect(1px 1px 1px 1px);clip: rect(1px, 1px, 1px, 1px);height: 1px;margin: -1px;overflow: hidden;padding: 0;position: absolute;width: 1px;}#sk-container-id-1 div.sk-estimator {font-family: monospace;background-color: #f0f8ff;border: 1px dotted black;border-radius: 0.25em;box-sizing: border-box;margin-bottom: 0.5em;}#sk-container-id-1 div.sk-estimator:hover {background-color: #d4ebff;}#sk-container-id-1 div.sk-parallel-item::after {content: \"\";width: 100%;border-bottom: 1px solid gray;flex-grow: 1;}#sk-container-id-1 div.sk-label:hover label.sk-toggleable__label {background-color: #d4ebff;}#sk-container-id-1 div.sk-serial::before {content: \"\";position: absolute;border-left: 1px solid gray;box-sizing: border-box;top: 0;bottom: 0;left: 50%;z-index: 0;}#sk-container-id-1 div.sk-serial {display: flex;flex-direction: column;align-items: center;background-color: white;padding-right: 0.2em;padding-left: 0.2em;position: relative;}#sk-container-id-1 div.sk-item {position: relative;z-index: 1;}#sk-container-id-1 div.sk-parallel {display: flex;align-items: stretch;justify-content: center;background-color: white;position: relative;}#sk-container-id-1 div.sk-item::before, #sk-container-id-1 div.sk-parallel-item::before {content: \"\";position: absolute;border-left: 1px solid gray;box-sizing: border-box;top: 0;bottom: 0;left: 50%;z-index: -1;}#sk-container-id-1 div.sk-parallel-item {display: flex;flex-direction: column;z-index: 1;position: relative;background-color: white;}#sk-container-id-1 div.sk-parallel-item:first-child::after {align-self: flex-end;width: 50%;}#sk-container-id-1 div.sk-parallel-item:last-child::after {align-self: flex-start;width: 50%;}#sk-container-id-1 div.sk-parallel-item:only-child::after {width: 0;}#sk-container-id-1 div.sk-dashed-wrapped {border: 1px dashed gray;margin: 0 0.4em 0.5em 0.4em;box-sizing: border-box;padding-bottom: 0.4em;background-color: white;}#sk-container-id-1 div.sk-label label {font-family: monospace;font-weight: bold;display: inline-block;line-height: 1.2em;}#sk-container-id-1 div.sk-label-container {text-align: center;}#sk-container-id-1 div.sk-container {/* jupyter's `normalize.less` sets `[hidden] { display: none; }` but bootstrap.min.css set `[hidden] { display: none !important; }` so we also need the `!important` here to be able to override the default hidden behavior on the sphinx rendered scikit-learn.org. See: https://github.com/scikit-learn/scikit-learn/issues/21755 */display: inline-block !important;position: relative;}#sk-container-id-1 div.sk-text-repr-fallback {display: none;}</style><div id=\"sk-container-id-1\" class=\"sk-top-container\"><div class=\"sk-text-repr-fallback\"><pre>LogisticRegression()</pre><b>In a Jupyter environment, please rerun this cell to show the HTML representation or trust the notebook. <br />On GitHub, the HTML representation is unable to render, please try loading this page with nbviewer.org.</b></div><div class=\"sk-container\" hidden><div class=\"sk-item\"><div class=\"sk-estimator sk-toggleable\"><input class=\"sk-toggleable__control sk-hidden--visually\" id=\"sk-estimator-id-1\" type=\"checkbox\" checked><label for=\"sk-estimator-id-1\" class=\"sk-toggleable__label sk-toggleable__label-arrow\">LogisticRegression</label><div class=\"sk-toggleable__content\"><pre>LogisticRegression()</pre></div></div></div></div></div>"
     },
     "execution_count": 13,
     "metadata": {},
     "output_type": "execute_result"
    }
   ],
   "source": [
    "from sklearn.linear_model import LogisticRegression\n",
    "\n",
    "filtered_dataframe = dataframe_2.drop(columns={'Apparent Temperature (C)'}, axis=1)\n",
    "filtered_dataframe.info()\n",
    "\n",
    "filtered_dataframe[filtered_dataframe.columns.difference(['Precip Type'])] = StandardScaler().fit_transform(filtered_dataframe[filtered_dataframe.columns.difference(['Precip Type'])])\n",
    "y2 = dataframe['Precip Type']\n",
    "X2 = dataframe[filtered_dataframe.columns.difference(['Precip Type'])]\n",
    "X2 =scaler.fit_transform(X2)\n",
    "# Apply PCA\n",
    "pca = PCA(n_components=3)\n",
    "X2 = pca.fit_transform(X2)\n",
    "\n",
    "X2_train, X2_test, y2_train, y2_test = train_test_split ( X2, y2, test_size=0.2, stratify=filtered_dataframe['Precip Type'], random_state = 13)\n",
    "# Train a logistic regression model\n",
    "log_reg = LogisticRegression()\n",
    "log_reg.fit(X2_train, y2_train)"
   ]
  },
  {
   "cell_type": "code",
   "execution_count": 14,
   "id": "af956761a486e713",
   "metadata": {
    "ExecuteTime": {
     "end_time": "2023-08-30T22:03:52.648157500Z",
     "start_time": "2023-08-30T22:03:52.555603Z"
    }
   },
   "outputs": [
    {
     "name": "stdout",
     "output_type": "stream",
     "text": [
      "Accuracy: 0.90911\n",
      "Precision: 0.65284\n",
      "Recall: 0.39683\n",
      "F1 Score: 0.49361\n"
     ]
    }
   ],
   "source": [
    "from sklearn.metrics import f1_score, recall_score, precision_score, accuracy_score\n",
    "y_pred_log= log_reg.predict(X2_test)\n",
    "\n",
    "acc = accuracy_score(y2_test, y_pred_log)\n",
    "pres = precision_score(y2_test, y_pred_log)\n",
    "reacll = recall_score(y2_test, y_pred_log)\n",
    "f1 = f1_score(y2_test, y_pred_log)\n",
    "\n",
    "print(f\"Accuracy: {acc:.5f}\")\n",
    "print(f\"Precision: {pres:.5f}\")\n",
    "print(f\"Recall: {reacll:.5f}\")\n",
    "print(f\"F1 Score: {f1:.5f}\")"
   ]
  },
  {
   "cell_type": "markdown",
   "id": "e348c6f1a366fa19",
   "metadata": {},
   "source": [
    " 4) Apply L1 regulariser on the logistic regression model developed using the same train and test data used in Q3 and calculate performance of the new model. Compare performance of this model with the performance reported in Q3. Explain the outcome."
   ]
  },
  {
   "cell_type": "code",
   "execution_count": 16,
   "id": "db3c445fcbd58189",
   "metadata": {
    "ExecuteTime": {
     "end_time": "2023-08-30T22:11:29.035819200Z",
     "start_time": "2023-08-30T22:11:28.824350Z"
    }
   },
   "outputs": [
    {
     "name": "stdout",
     "output_type": "stream",
     "text": [
      "Accuracy: 0.90911\n",
      "Precision: 0.65284\n",
      "Recall: 0.39683\n",
      "F1 Score: 0.49361\n"
     ]
    }
   ],
   "source": [
    "log_reg_f1 = LogisticRegression(penalty='l1', solver='saga')\n",
    "log_reg_f1.fit(X2_train, y2_train)\n",
    "y_pred_log_f1= log_reg_f1.predict(X2_test)\n",
    "\n",
    "acc_l1 = accuracy_score(y2_test, y_pred_log_f1)\n",
    "pres_l1 = precision_score(y2_test, y_pred_log_f1)\n",
    "reacll_l1 = recall_score(y2_test, y_pred_log_f1)\n",
    "f1_l1 = f1_score(y2_test, y_pred_log_f1)\n",
    "\n",
    "print(f\"Accuracy: {acc_l1:.5f}\")\n",
    "print(f\"Precision: {pres_l1:.5f}\")\n",
    "print(f\"Recall: {reacll_l1:.5f}\")\n",
    "print(f\"F1 Score: {f1_l1:.5f}\")"
   ]
  },
  {
   "cell_type": "markdown",
   "source": [
    "In our case there was no changes in the result. That means that the model was not overfitted, what resulted in a unchanged result when we applied the L1 regulariser. "
   ],
   "metadata": {
    "collapsed": false
   },
   "id": "d03795891bb85c58"
  }
 ],
 "metadata": {
  "kernelspec": {
   "display_name": "Python 3 (ipykernel)",
   "language": "python",
   "name": "python3"
  },
  "language_info": {
   "codemirror_mode": {
    "name": "ipython",
    "version": 3
   },
   "file_extension": ".py",
   "mimetype": "text/x-python",
   "name": "python",
   "nbconvert_exporter": "python",
   "pygments_lexer": "ipython3",
   "version": "3.10.12"
  }
 },
 "nbformat": 4,
 "nbformat_minor": 5
}
